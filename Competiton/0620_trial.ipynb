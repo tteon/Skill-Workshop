{
 "cells": [
  {
   "cell_type": "markdown",
   "id": "2fc268d6",
   "metadata": {},
   "source": [
    "# module load"
   ]
  },
  {
   "cell_type": "code",
   "execution_count": 9,
   "id": "19c82114",
   "metadata": {
    "ExecuteTime": {
     "end_time": "2021-06-20T06:47:15.210069Z",
     "start_time": "2021-06-20T06:47:15.169354Z"
    }
   },
   "outputs": [],
   "source": [
    "from datetime import datetime\n",
    "from scipy.stats import skew\n",
    "from scipy.special import boxcox1p\n",
    "from scipy.stats import boxcox_normmax\n",
    "\n",
    "from sklearn.linear_model import ElasticNetCV, LassoCV, RidgeCV\n",
    "from sklearn.ensemble import GradientBoostingRegressor\n",
    "from sklearn.svm import SVR\n",
    "from sklearn.pipeline import make_pipeline\n",
    "from sklearn.preprocessing import RobustScaler\n",
    "from sklearn.model_selection import KFold, cross_val_score\n",
    "from mlxtend.regressor import StackingCVRegressor\n",
    "from xgboost import XGBRegressor\n",
    "from lightgbm import LGBMRegressor\n",
    "\n",
    "import matplotlib.pyplot as plt\n",
    "import scipy.stats as stats\n",
    "import sklearn.linear_model as linear_model\n",
    "import seaborn as sns\n",
    "import pandas as pd\n",
    "\n",
    "\n",
    "from sklearn.manifold import TSNE\n",
    "from sklearn.cluster import KMeans\n",
    "from sklearn.decomposition import PCA\n",
    "from sklearn.preprocessing import StandardScaler"
   ]
  },
  {
   "cell_type": "markdown",
   "id": "33015bb3",
   "metadata": {},
   "source": [
    "# data load"
   ]
  },
  {
   "cell_type": "code",
   "execution_count": 98,
   "id": "9e69b82a",
   "metadata": {
    "ExecuteTime": {
     "end_time": "2021-06-20T08:32:24.644911Z",
     "start_time": "2021-06-20T08:32:24.509548Z"
    }
   },
   "outputs": [],
   "source": [
    "train = pd.read_csv('dataset/train.csv')\n",
    "test = pd.read_csv('dataset/test.csv')"
   ]
  },
  {
   "cell_type": "code",
   "execution_count": 12,
   "id": "b4ee1c4f",
   "metadata": {
    "ExecuteTime": {
     "end_time": "2021-06-20T06:47:39.193763Z",
     "start_time": "2021-06-20T06:47:39.166699Z"
    }
   },
   "outputs": [
    {
     "data": {
      "text/plain": [
       "(21189, 16)"
      ]
     },
     "execution_count": 12,
     "metadata": {},
     "output_type": "execute_result"
    }
   ],
   "source": [
    "train.shape"
   ]
  },
  {
   "cell_type": "code",
   "execution_count": 13,
   "id": "586a5b17",
   "metadata": {
    "ExecuteTime": {
     "end_time": "2021-06-20T06:47:41.789815Z",
     "start_time": "2021-06-20T06:47:41.778481Z"
    }
   },
   "outputs": [
    {
     "data": {
      "text/plain": [
       "(21189, 16)"
      ]
     },
     "execution_count": 13,
     "metadata": {},
     "output_type": "execute_result"
    }
   ],
   "source": [
    "test.shape"
   ]
  },
  {
   "cell_type": "code",
   "execution_count": 17,
   "id": "d6136fe3",
   "metadata": {
    "ExecuteTime": {
     "end_time": "2021-06-20T06:49:21.774189Z",
     "start_time": "2021-06-20T06:49:21.758910Z"
    }
   },
   "outputs": [
    {
     "data": {
      "text/plain": [
       "Index(['UNC_YEAR', 'HSCD', 'COUNTRYCD', 'COUNTRYNM', 'TRADE_COUNTRYCD',\n",
       "       'TRADE_HSCD', 'TARIFF_AVG', 'SNDIST', 'NY_GDP_MKTP_CD',\n",
       "       'NY_GDP_MKTP_CD_1Y', 'SP_POP_TOTL', 'PA_NUS_FCRF',\n",
       "       'IC_BUS_EASE_DFRN_DB', 'KMDIST', 'TRADE_HSCD_COUNTRYCD',\n",
       "       'KR_TRADE_HSCD_COUNTRYCD'],\n",
       "      dtype='object')"
      ]
     },
     "execution_count": 17,
     "metadata": {},
     "output_type": "execute_result"
    }
   ],
   "source": [
    "train.dtypes.index"
   ]
  },
  {
   "cell_type": "code",
   "execution_count": 99,
   "id": "4174f438",
   "metadata": {
    "ExecuteTime": {
     "end_time": "2021-06-20T08:32:33.617380Z",
     "start_time": "2021-06-20T08:32:33.603609Z"
    }
   },
   "outputs": [],
   "source": [
    "# 변수 특징 확인 Good technique!!!\n",
    "cat_columns = [c for c, t in zip(train.dtypes.index, train.dtypes) if t == 'O'] \n",
    "num_columns = [c for c in train.dtypes.index if c not in cat_columns]"
   ]
  },
  {
   "cell_type": "code",
   "execution_count": 23,
   "id": "b3ea159c",
   "metadata": {
    "ExecuteTime": {
     "end_time": "2021-06-20T06:52:20.379506Z",
     "start_time": "2021-06-20T06:52:20.372521Z"
    }
   },
   "outputs": [],
   "source": [
    "quantitative = cat_columns\n",
    "qualitative = num_columns"
   ]
  },
  {
   "cell_type": "code",
   "execution_count": 22,
   "id": "e7cb785a",
   "metadata": {
    "ExecuteTime": {
     "end_time": "2021-06-20T06:52:07.995831Z",
     "start_time": "2021-06-20T06:52:07.984593Z"
    }
   },
   "outputs": [
    {
     "data": {
      "text/plain": [
       "['COUNTRYNM']"
      ]
     },
     "execution_count": 22,
     "metadata": {},
     "output_type": "execute_result"
    }
   ],
   "source": [
    "quantitative"
   ]
  },
  {
   "cell_type": "code",
   "execution_count": 24,
   "id": "0bd1c2e3",
   "metadata": {
    "ExecuteTime": {
     "end_time": "2021-06-20T06:52:23.768260Z",
     "start_time": "2021-06-20T06:52:23.755170Z"
    }
   },
   "outputs": [
    {
     "data": {
      "text/plain": [
       "['UNC_YEAR',\n",
       " 'HSCD',\n",
       " 'COUNTRYCD',\n",
       " 'TRADE_COUNTRYCD',\n",
       " 'TRADE_HSCD',\n",
       " 'TARIFF_AVG',\n",
       " 'SNDIST',\n",
       " 'NY_GDP_MKTP_CD',\n",
       " 'NY_GDP_MKTP_CD_1Y',\n",
       " 'SP_POP_TOTL',\n",
       " 'PA_NUS_FCRF',\n",
       " 'IC_BUS_EASE_DFRN_DB',\n",
       " 'KMDIST',\n",
       " 'TRADE_HSCD_COUNTRYCD',\n",
       " 'KR_TRADE_HSCD_COUNTRYCD']"
      ]
     },
     "execution_count": 24,
     "metadata": {},
     "output_type": "execute_result"
    }
   ],
   "source": [
    "qualitative"
   ]
  },
  {
   "cell_type": "markdown",
   "id": "fccf38ff",
   "metadata": {
    "ExecuteTime": {
     "end_time": "2021-06-20T06:53:59.236239Z",
     "start_time": "2021-06-20T06:53:59.194033Z"
    }
   },
   "source": [
    "## Data describe\n",
    "\n",
    "UNC_YEAR\t기준연도\tYYYY\n",
    "\n",
    "HSCD\tHS Code (품목코드)\t6자리 숫자코드\n",
    "\n",
    "COUNTRYCD\tISO 국가코드\t숫자코드\n",
    "\n",
    "COUNTRYNM\t영문 국가명\tCharacter\n",
    "\n",
    "TRADE_COUNTRYCD\t해당 연도 해당 국가의 전체 품목 수입금액\tUS$\n",
    "\n",
    "TRADE_HSCD\t해당 연도 해당 품목의 전세계 총 수입금액\tUS$\n",
    "\n",
    "TARIFF_AVG\t해당 국가에서 해당 품목에 적용되는 평균 관세율\t%\n",
    "\n",
    "SNDIST\t해당 국가와 수입 국가 간 평균 거리\tkm\n",
    "\n",
    "NY_GDP_MKTP_CD\tGDP\tUS$\n",
    "\n",
    "NY_GDP_MKTP_CD_1Y\t이전년도 GDP\tUS$\n",
    "\n",
    "SP_POP_TOTL\t인구 (연중 추정치)\t명\n",
    "\n",
    "PA_NUS_FCRF\t공식 환율 (미국 달러에 대한 현지 통화 단위, 월평균을 기준으로 한 연평균)\tUS$\n",
    "\n",
    "IC_BUS_EASE_DFRN_DB\t비즈니스 용이성 점수\t점수 (0~100)\n",
    "\n",
    "KMDIST\t해당 국가와 한국과의 거리\tkm\n",
    "\n",
    "TRADE_HSCD_COUNTRYCD\t해당 연도 해당 국가의 해당 품목 수입금액\tUS$\n",
    "\n",
    "KR_TRADE_HSCD_COUNTRYCD\t내년 해당 국가가 해당 품목을 한국으로부터 수입한 금액\tUS$"
   ]
  },
  {
   "cell_type": "markdown",
   "id": "e93fc1cd",
   "metadata": {},
   "source": [
    "## missing value viz"
   ]
  },
  {
   "cell_type": "code",
   "execution_count": null,
   "id": "8029ff9d",
   "metadata": {},
   "outputs": [],
   "source": [
    "# missing value handling\n",
    "train = train.fillna(method='ffill')"
   ]
  },
  {
   "cell_type": "code",
   "execution_count": 113,
   "id": "ee74b710",
   "metadata": {
    "ExecuteTime": {
     "end_time": "2021-06-20T08:35:20.108104Z",
     "start_time": "2021-06-20T08:35:19.759094Z"
    }
   },
   "outputs": [
    {
     "data": {
      "text/plain": [
       "<AxesSubplot:>"
      ]
     },
     "execution_count": 113,
     "metadata": {},
     "output_type": "execute_result"
    },
    {
     "data": {
      "image/png": "[encoded data removed]",
      "text/plain": [
       "<Figure size 432x288 with 1 Axes>"
      ]
     },
     "metadata": {},
     "output_type": "display_data"
    }
   ],
   "source": [
    "sns.set_style('whitegrid')\n",
    "missing = train.isnull().sum()\n",
    "#missing = missing[missing > 0]\n",
    "missing.sort_values(inplace=True)\n",
    "missing.plot.bar()"
   ]
  },
  {
   "cell_type": "markdown",
   "id": "cac04586",
   "metadata": {},
   "source": [
    "we need to the missing value replacement (PA_NUS_FCRF) , i will that values replace that each countrys' mean()"
   ]
  },
  {
   "cell_type": "code",
   "execution_count": 36,
   "id": "d9050459",
   "metadata": {
    "ExecuteTime": {
     "end_time": "2021-06-20T07:01:17.662057Z",
     "start_time": "2021-06-20T07:01:17.645480Z"
    }
   },
   "outputs": [
    {
     "data": {
      "text/plain": [
       "Index(['UNC_YEAR', 'HSCD', 'COUNTRYCD', 'COUNTRYNM', 'TRADE_COUNTRYCD',\n",
       "       'TRADE_HSCD', 'TARIFF_AVG', 'SNDIST', 'NY_GDP_MKTP_CD',\n",
       "       'NY_GDP_MKTP_CD_1Y', 'SP_POP_TOTL', 'PA_NUS_FCRF',\n",
       "       'IC_BUS_EASE_DFRN_DB', 'KMDIST', 'TRADE_HSCD_COUNTRYCD',\n",
       "       'KR_TRADE_HSCD_COUNTRYCD'],\n",
       "      dtype='object')"
      ]
     },
     "execution_count": 36,
     "metadata": {},
     "output_type": "execute_result"
    }
   ],
   "source": [
    "train.columns"
   ]
  },
  {
   "cell_type": "code",
   "execution_count": 52,
   "id": "2be104dd",
   "metadata": {
    "ExecuteTime": {
     "end_time": "2021-06-20T08:05:05.016358Z",
     "start_time": "2021-06-20T08:05:05.003816Z"
    }
   },
   "outputs": [
    {
     "data": {
      "text/plain": [
       "['COUNTRYNM']"
      ]
     },
     "execution_count": 52,
     "metadata": {},
     "output_type": "execute_result"
    }
   ],
   "source": [
    "quantitative"
   ]
  },
  {
   "cell_type": "code",
   "execution_count": 63,
   "id": "0267b442",
   "metadata": {
    "ExecuteTime": {
     "end_time": "2021-06-20T08:09:18.039568Z",
     "start_time": "2021-06-20T08:09:18.022751Z"
    }
   },
   "outputs": [
    {
     "data": {
      "text/plain": [
       "['UNC_YEAR',\n",
       " 'HSCD',\n",
       " 'COUNTRYCD',\n",
       " 'TRADE_COUNTRYCD',\n",
       " 'TRADE_HSCD',\n",
       " 'TARIFF_AVG',\n",
       " 'SNDIST',\n",
       " 'NY_GDP_MKTP_CD',\n",
       " 'NY_GDP_MKTP_CD_1Y',\n",
       " 'SP_POP_TOTL',\n",
       " 'PA_NUS_FCRF',\n",
       " 'IC_BUS_EASE_DFRN_DB',\n",
       " 'KMDIST',\n",
       " 'TRADE_HSCD_COUNTRYCD',\n",
       " 'KR_TRADE_HSCD_COUNTRYCD']"
      ]
     },
     "execution_count": 63,
     "metadata": {},
     "output_type": "execute_result"
    }
   ],
   "source": [
    "qualitative"
   ]
  },
  {
   "cell_type": "code",
   "execution_count": null,
   "id": "7e1988da",
   "metadata": {},
   "outputs": [],
   "source": []
  },
  {
   "cell_type": "code",
   "execution_count": 120,
   "id": "182db1e0",
   "metadata": {
    "ExecuteTime": {
     "end_time": "2021-06-20T08:38:19.935036Z",
     "start_time": "2021-06-20T08:38:19.908703Z"
    }
   },
   "outputs": [
    {
     "data": {
      "text/plain": [
       "COUNTRYNM\n",
       "Algeria                   110.973017\n",
       "Australia                   1.304758\n",
       "Austria                     1.304758\n",
       "Belgium                     1.304758\n",
       "Brazil                      3.191389\n",
       "Canada                      1.297936\n",
       "Chile                     648.833793\n",
       "China                       6.758755\n",
       "China, Hong Kong SAR        7.793250\n",
       "Czechia                    23.376333\n",
       "Egypt                      17.782534\n",
       "France                     23.343032\n",
       "Germany                    23.343098\n",
       "Guatemala                   7.347939\n",
       "India                      65.121569\n",
       "Indonesia               13380.833880\n",
       "Iran                    33226.298150\n",
       "Italy                   30999.151859\n",
       "Japan                     112.166141\n",
       "Kazakhstan                326.001023\n",
       "Kuwait                      0.303350\n",
       "Malaysia                    4.300441\n",
       "Mexico                     18.926517\n",
       "Mongolia                 2439.777201\n",
       "Myanmar                  1360.358707\n",
       "Netherlands              2381.676785\n",
       "New Zealand                 1.407408\n",
       "Norway                      8.271667\n",
       "Peru                        3.260488\n",
       "Philippines                50.403720\n",
       "Poland                      3.779333\n",
       "Russian Federation         58.342801\n",
       "Saudi Arabia                3.750000\n",
       "Singapore                   1.380925\n",
       "South Africa               13.323801\n",
       "Spain                      13.323801\n",
       "Sri Lanka                 152.446414\n",
       "Switzerland                 0.984692\n",
       "Turkey                      3.648133\n",
       "USA                         1.000000\n",
       "United Arab Emirates        3.672500\n",
       "United Kingdom              0.776977\n",
       "Viet Nam                22370.086670\n",
       "Name: PA_NUS_FCRF, dtype: float64"
      ]
     },
     "execution_count": 120,
     "metadata": {},
     "output_type": "execute_result"
    }
   ],
   "source": [
    "# PA NUS FCRF 변수에 nan 값이 있는데 그 나라의 평균값으로 결측치를 대체해줄 생각.\n",
    "# next...\n",
    "\n",
    "train.groupby('COUNTRYNM')['PA_NUS_FCRF'].mean()"
   ]
  },
  {
   "cell_type": "code",
   "execution_count": null,
   "id": "0e2e21a9",
   "metadata": {},
   "outputs": [],
   "source": []
  },
  {
   "cell_type": "markdown",
   "id": "57c12d97",
   "metadata": {},
   "source": [
    "# model"
   ]
  },
  {
   "cell_type": "markdown",
   "id": "4defbefb",
   "metadata": {},
   "source": [
    "## Data processing"
   ]
  },
  {
   "cell_type": "code",
   "execution_count": 122,
   "id": "7cdce913",
   "metadata": {
    "ExecuteTime": {
     "end_time": "2021-06-20T08:41:17.902312Z",
     "start_time": "2021-06-20T08:41:17.897852Z"
    }
   },
   "outputs": [],
   "source": [
    "train['KR_TRADE_HSCD_COUNTRYCD'] = np.log1p(train['KR_TRADE_HSCD_COUNTRYCD'])\n",
    "y = train['KR_TRADE_HSCD_COUNTRYCD'].reset_index(drop=True)"
   ]
  },
  {
   "cell_type": "code",
   "execution_count": null,
   "id": "9f042afd",
   "metadata": {},
   "outputs": [],
   "source": []
  },
  {
   "cell_type": "code",
   "execution_count": null,
   "id": "95c83118",
   "metadata": {},
   "outputs": [],
   "source": []
  },
  {
   "cell_type": "markdown",
   "id": "c31fabc8",
   "metadata": {},
   "source": [
    "## Features"
   ]
  },
  {
   "cell_type": "code",
   "execution_count": 123,
   "id": "e69c6872",
   "metadata": {
    "ExecuteTime": {
     "end_time": "2021-06-20T08:41:31.297784Z",
     "start_time": "2021-06-20T08:41:31.291254Z"
    }
   },
   "outputs": [],
   "source": [
    "from sklearn.model_selection import train_test_split"
   ]
  },
  {
   "cell_type": "code",
   "execution_count": 124,
   "id": "b910dbe2",
   "metadata": {
    "ExecuteTime": {
     "end_time": "2021-06-20T08:41:31.521443Z",
     "start_time": "2021-06-20T08:41:31.508137Z"
    }
   },
   "outputs": [],
   "source": [
    "X_train, X_test, y_train, y_test = train_test_split(train, y, test_size=0.33, random_state=42)"
   ]
  },
  {
   "cell_type": "code",
   "execution_count": 135,
   "id": "5e8d1866",
   "metadata": {
    "ExecuteTime": {
     "end_time": "2021-06-20T08:43:12.496166Z",
     "start_time": "2021-06-20T08:43:12.472721Z"
    }
   },
   "outputs": [],
   "source": [
    "X_train, X_valid, y_train, y_valid = train_test_split(X_train, y_train, test_size=0.3, random_state=42)"
   ]
  },
  {
   "cell_type": "code",
   "execution_count": 138,
   "id": "cb6921b3",
   "metadata": {
    "ExecuteTime": {
     "end_time": "2021-06-20T08:43:36.775798Z",
     "start_time": "2021-06-20T08:43:36.771223Z"
    }
   },
   "outputs": [],
   "source": [
    "# 변수 특징 확인 Good technique!!!\n",
    "cat_columns = [c for c, t in zip(X_train.dtypes.index, X_train.dtypes) if t == 'O'] \n",
    "num_columns = [c for c in X_train.dtypes.index if c not in cat_columns]"
   ]
  },
  {
   "cell_type": "code",
   "execution_count": 139,
   "id": "dd40a26c",
   "metadata": {
    "ExecuteTime": {
     "end_time": "2021-06-20T08:43:37.007545Z",
     "start_time": "2021-06-20T08:43:37.000875Z"
    }
   },
   "outputs": [
    {
     "name": "stdout",
     "output_type": "stream",
     "text": [
      "범주형 변수: \n",
      "['COUNTRYNM']\n",
      "\n",
      " 수치형 변수: \n",
      "['UNC_YEAR', 'HSCD', 'COUNTRYCD', 'TRADE_COUNTRYCD', 'TRADE_HSCD', 'TARIFF_AVG', 'SNDIST', 'NY_GDP_MKTP_CD', 'NY_GDP_MKTP_CD_1Y', 'SP_POP_TOTL', 'PA_NUS_FCRF', 'IC_BUS_EASE_DFRN_DB', 'KMDIST', 'TRADE_HSCD_COUNTRYCD', 'KR_TRADE_HSCD_COUNTRYCD']\n",
      "\n"
     ]
    }
   ],
   "source": [
    "print(f'범주형 변수: \\n{cat_columns}\\n\\n 수치형 변수: \\n{num_columns}\\n')"
   ]
  },
  {
   "cell_type": "code",
   "execution_count": null,
   "id": "edbeb76e",
   "metadata": {},
   "outputs": [],
   "source": []
  },
  {
   "cell_type": "code",
   "execution_count": 140,
   "id": "8cbf28c7",
   "metadata": {
    "ExecuteTime": {
     "end_time": "2021-06-20T08:43:38.609807Z",
     "start_time": "2021-06-20T08:43:38.521377Z"
    }
   },
   "outputs": [],
   "source": [
    "from sklearn.preprocessing import StandardScaler\n",
    "\n",
    "scaler = StandardScaler()\n",
    "X_train[num_columns] = scaler.fit_transform(X_train[num_columns])\n",
    "\n",
    "X_valid[num_columns] = scaler.transform(X_valid[num_columns])\n",
    "# tmp_test[num_columns]  = scaler.transform(tmp_test[num_columns])"
   ]
  },
  {
   "cell_type": "code",
   "execution_count": null,
   "id": "e96ad980",
   "metadata": {},
   "outputs": [],
   "source": []
  },
  {
   "cell_type": "code",
   "execution_count": 144,
   "id": "59a0ae46",
   "metadata": {
    "ExecuteTime": {
     "end_time": "2021-06-20T08:46:06.630588Z",
     "start_time": "2021-06-20T08:46:06.613302Z"
    }
   },
   "outputs": [],
   "source": [
    "cat = pd.get_dummies(X_train['COUNTRYNM'])\n",
    "cat2 = pd.get_dummies(X_valid['COUNTRYNM'])"
   ]
  },
  {
   "cell_type": "code",
   "execution_count": 149,
   "id": "b98117c9",
   "metadata": {
    "ExecuteTime": {
     "end_time": "2021-06-20T08:46:42.597576Z",
     "start_time": "2021-06-20T08:46:42.583998Z"
    }
   },
   "outputs": [
    {
     "data": {
      "text/plain": [
       "Index(['UNC_YEAR', 'HSCD', 'COUNTRYCD', 'COUNTRYNM', 'TRADE_COUNTRYCD',\n",
       "       'TRADE_HSCD', 'TARIFF_AVG', 'SNDIST', 'NY_GDP_MKTP_CD',\n",
       "       'NY_GDP_MKTP_CD_1Y', 'SP_POP_TOTL', 'PA_NUS_FCRF',\n",
       "       'IC_BUS_EASE_DFRN_DB', 'KMDIST', 'TRADE_HSCD_COUNTRYCD',\n",
       "       'KR_TRADE_HSCD_COUNTRYCD'],\n",
       "      dtype='object')"
      ]
     },
     "execution_count": 149,
     "metadata": {},
     "output_type": "execute_result"
    }
   ],
   "source": [
    "X_train.columns"
   ]
  },
  {
   "cell_type": "code",
   "execution_count": 157,
   "id": "e26aff76",
   "metadata": {
    "ExecuteTime": {
     "end_time": "2021-06-20T08:48:29.632576Z",
     "start_time": "2021-06-20T08:48:29.608496Z"
    }
   },
   "outputs": [],
   "source": [
    "X_train = pd.concat([X_train, cat],axis=1).drop(columns=['COUNTRYNM','UNC_YEAR'])\n",
    "X_valid = pd.concat([X_valid, cat2],axis=1).drop(columns=['COUNTRYNM','UNC_YEAR'])"
   ]
  },
  {
   "cell_type": "code",
   "execution_count": null,
   "id": "4b4f02af",
   "metadata": {},
   "outputs": [],
   "source": []
  },
  {
   "cell_type": "code",
   "execution_count": 186,
   "id": "6da9011a",
   "metadata": {
    "ExecuteTime": {
     "end_time": "2021-06-20T09:12:59.538889Z",
     "start_time": "2021-06-20T09:12:59.528972Z"
    }
   },
   "outputs": [],
   "source": [
    "from sklearn.metrics import mean_squared_error"
   ]
  },
  {
   "cell_type": "code",
   "execution_count": 203,
   "id": "81098c62",
   "metadata": {
    "ExecuteTime": {
     "end_time": "2021-06-20T09:37:36.439557Z",
     "start_time": "2021-06-20T09:37:36.432828Z"
    }
   },
   "outputs": [],
   "source": [
    "kfolds = KFold(n_splits=10, shuffle=True, random_state=42)"
   ]
  },
  {
   "cell_type": "code",
   "execution_count": null,
   "id": "2faf588c",
   "metadata": {},
   "outputs": [],
   "source": []
  },
  {
   "cell_type": "code",
   "execution_count": 179,
   "id": "1419188c",
   "metadata": {
    "ExecuteTime": {
     "end_time": "2021-06-20T09:10:40.566010Z",
     "start_time": "2021-06-20T09:10:40.549216Z"
    }
   },
   "outputs": [],
   "source": [
    "alphas_alt = [14.5, 14.6, 14.7, 14.8, 14.9, 15, 15.1, 15.2, 15.3, 15.4, 15.5]\n",
    "alphas2 = [5e-05, 0.0001, 0.0002, 0.0003, 0.0004, 0.0005, 0.0006, 0.0007, 0.0008]\n",
    "e_alphas = [0.0001, 0.0002, 0.0003, 0.0004, 0.0005, 0.0006, 0.0007]\n",
    "e_l1ratio = [0.8, 0.85, 0.9, 0.95, 0.99, 1]"
   ]
  },
  {
   "cell_type": "code",
   "execution_count": 180,
   "id": "06814a86",
   "metadata": {
    "ExecuteTime": {
     "end_time": "2021-06-20T09:10:40.701248Z",
     "start_time": "2021-06-20T09:10:40.690312Z"
    }
   },
   "outputs": [],
   "source": [
    "ridge = make_pipeline(RobustScaler(), RidgeCV(alphas=alphas_alt, cv=kfolds))\n",
    "lasso = make_pipeline(RobustScaler(), LassoCV(max_iter=1e7, alphas=alphas2, random_state=42, cv=kfolds))\n",
    "elasticnet = make_pipeline(RobustScaler(), ElasticNetCV(max_iter=1e7, alphas=e_alphas, cv=kfolds, l1_ratio=e_l1ratio))                                \n",
    "svr = make_pipeline(RobustScaler(), SVR(C= 20, epsilon= 0.008, gamma=0.0003,))"
   ]
  },
  {
   "cell_type": "code",
   "execution_count": 181,
   "id": "5f2090f9",
   "metadata": {
    "ExecuteTime": {
     "end_time": "2021-06-20T09:10:40.906182Z",
     "start_time": "2021-06-20T09:10:40.892275Z"
    }
   },
   "outputs": [],
   "source": [
    "gbr = GradientBoostingRegressor(n_estimators=3000,\n",
    "                                learning_rate=0.05,\n",
    "                               max_depth=4,\n",
    "                               max_features='sqrt',\n",
    "                               min_samples_leaf=15,\n",
    "                               min_samples_split=10,\n",
    "                               loss='huber',\n",
    "                               random_state=42)"
   ]
  },
  {
   "cell_type": "code",
   "execution_count": 182,
   "id": "33265190",
   "metadata": {
    "ExecuteTime": {
     "end_time": "2021-06-20T09:10:41.070637Z",
     "start_time": "2021-06-20T09:10:41.062516Z"
    }
   },
   "outputs": [],
   "source": [
    "lightgbm = LGBMRegressor(objective='regression', \n",
    "                                       num_leaves=4,\n",
    "                                       learning_rate=0.01, \n",
    "                                       n_estimators=5000,\n",
    "                                       max_bin=200, \n",
    "                                       bagging_fraction=0.75,\n",
    "                                       bagging_freq=5, \n",
    "                                       bagging_seed=7,\n",
    "                                       feature_fraction=0.2,\n",
    "                                       feature_fraction_seed=7,\n",
    "                                       verbose=-1,\n",
    "                                       )"
   ]
  },
  {
   "cell_type": "code",
   "execution_count": 183,
   "id": "fb2e5503",
   "metadata": {
    "ExecuteTime": {
     "end_time": "2021-06-20T09:10:41.476964Z",
     "start_time": "2021-06-20T09:10:41.458142Z"
    }
   },
   "outputs": [],
   "source": [
    "xgboost = XGBRegressor(learning_rate=0.01,n_estimators=3460,\n",
    "                                     max_depth=3, min_child_weight=0,\n",
    "                                     gamma=0, subsample=0.7,\n",
    "                                     colsample_bytree=0.7,\n",
    "                                     objective='reg:linear', nthread=-1,\n",
    "                                     scale_pos_weight=1, seed=27,\n",
    "                                     reg_alpha=0.00006)"
   ]
  },
  {
   "cell_type": "code",
   "execution_count": 184,
   "id": "22f6d1af",
   "metadata": {
    "ExecuteTime": {
     "end_time": "2021-06-20T09:10:41.681638Z",
     "start_time": "2021-06-20T09:10:41.673463Z"
    }
   },
   "outputs": [],
   "source": [
    "stack_gen = StackingCVRegressor(regressors=(ridge, lasso, elasticnet, gbr, xgboost, lightgbm),\n",
    "                                meta_regressor=xgboost,\n",
    "                                use_features_in_secondary=True)"
   ]
  },
  {
   "cell_type": "code",
   "execution_count": 194,
   "id": "28166d07",
   "metadata": {
    "ExecuteTime": {
     "end_time": "2021-06-20T09:31:23.436715Z",
     "start_time": "2021-06-20T09:31:23.429675Z"
    }
   },
   "outputs": [],
   "source": [
    "from sklearn.model_selection import cross_val_score"
   ]
  },
  {
   "cell_type": "code",
   "execution_count": 195,
   "id": "f0f989ae",
   "metadata": {
    "ExecuteTime": {
     "end_time": "2021-06-20T09:31:52.129094Z",
     "start_time": "2021-06-20T09:31:43.264566Z"
    }
   },
   "outputs": [],
   "source": [
    "scores = cross_val_score(ridge, X_train, y_train,\n",
    "                        scoring='neg_mean_squared_error', cv=10)"
   ]
  },
  {
   "cell_type": "code",
   "execution_count": 196,
   "id": "d6525881",
   "metadata": {
    "ExecuteTime": {
     "end_time": "2021-06-20T09:32:15.836836Z",
     "start_time": "2021-06-20T09:32:15.828875Z"
    }
   },
   "outputs": [],
   "source": [
    "ridge_rmse_scores = np.sqrt(-scores)"
   ]
  },
  {
   "cell_type": "code",
   "execution_count": 201,
   "id": "da649d67",
   "metadata": {
    "ExecuteTime": {
     "end_time": "2021-06-20T09:36:17.749598Z",
     "start_time": "2021-06-20T09:36:17.735957Z"
    }
   },
   "outputs": [],
   "source": [
    "def display_scores(scores):\n",
    "    print(f'점수: {scores} \\n')\n",
    "    print(f'평균: {scores.mean()} \\n')\n",
    "    print(f'표준편차: {scores.std()} \\n')"
   ]
  },
  {
   "cell_type": "code",
   "execution_count": 202,
   "id": "3619daa0",
   "metadata": {
    "ExecuteTime": {
     "end_time": "2021-06-20T09:36:17.891671Z",
     "start_time": "2021-06-20T09:36:17.886821Z"
    }
   },
   "outputs": [
    {
     "name": "stdout",
     "output_type": "stream",
     "text": [
      "점수: [7.26767085e-05 6.38929815e-05 5.21163278e-05 7.08043797e-05\n",
      " 7.12123534e-05 6.21867836e-05 5.95381790e-05 7.46185416e-05\n",
      " 6.50386647e-05 5.74042177e-05] \n",
      "\n",
      "평균: 6.49489137536528e-05 \n",
      "\n",
      "표준편차: 6.973979028412043e-06 \n",
      "\n"
     ]
    }
   ],
   "source": [
    "display_scores(ridge_rmse_scores)"
   ]
  },
  {
   "cell_type": "code",
   "execution_count": 223,
   "id": "1a8b8d23",
   "metadata": {
    "ExecuteTime": {
     "end_time": "2021-06-20T09:48:33.471642Z",
     "start_time": "2021-06-20T09:48:31.781331Z"
    }
   },
   "outputs": [],
   "source": [
    "scores = cross_val_score(lasso, X_train, y_train,\n",
    "                         scoring='neg_mean_squared_error', cv=10)"
   ]
  },
  {
   "cell_type": "code",
   "execution_count": 225,
   "id": "e644e8fe",
   "metadata": {
    "ExecuteTime": {
     "end_time": "2021-06-20T09:48:49.166180Z",
     "start_time": "2021-06-20T09:48:49.158350Z"
    }
   },
   "outputs": [],
   "source": [
    "lasso_rmse_scores = np.sqrt(-scores)"
   ]
  },
  {
   "cell_type": "code",
   "execution_count": 227,
   "id": "af4ae412",
   "metadata": {
    "ExecuteTime": {
     "end_time": "2021-06-20T09:49:00.252783Z",
     "start_time": "2021-06-20T09:49:00.241470Z"
    }
   },
   "outputs": [
    {
     "name": "stdout",
     "output_type": "stream",
     "text": [
      "점수: [2.46537905e-05 2.25799963e-05 1.78220882e-05 2.46160271e-05\n",
      " 2.52466841e-05 2.13188638e-05 2.05105752e-05 2.37782668e-05\n",
      " 2.25383331e-05 1.97692323e-05] \n",
      "\n",
      "평균: 2.228338574111061e-05 \n",
      "\n",
      "표준편차: 2.2918577489858477e-06 \n",
      "\n"
     ]
    }
   ],
   "source": [
    "display_scores(lasso_rmse_scores)"
   ]
  },
  {
   "cell_type": "markdown",
   "id": "e0c014b2",
   "metadata": {},
   "source": [
    "Future work\n",
    "\n",
    "- 결측치 각 나라별 mean으로 채워넣기.\n",
    "\n",
    "- blending , stacking 적용하기 .\n",
    "\n",
    "[solution](https://www.kaggle.com/jesucristo/1-house-prices-solution-top-1?scriptVersionId=12846740)\n",
    "\n"
   ]
  },
  {
   "cell_type": "code",
   "execution_count": null,
   "id": "d02d0f8f",
   "metadata": {},
   "outputs": [],
   "source": []
  }
 ],
 "metadata": {
  "kernelspec": {
   "display_name": "Python 3",
   "language": "python",
   "name": "python3"
  },
  "language_info": {
   "codemirror_mode": {
    "name": "ipython",
    "version": 3
   },
   "file_extension": ".py",
   "mimetype": "text/x-python",
   "name": "python",
   "nbconvert_exporter": "python",
   "pygments_lexer": "ipython3",
   "version": "3.7.9"
  },
  "toc": {
   "base_numbering": 1,
   "nav_menu": {},
   "number_sections": true,
   "sideBar": true,
   "skip_h1_title": false,
   "title_cell": "Table of Contents",
   "title_sidebar": "Contents",
   "toc_cell": false,
   "toc_position": {},
   "toc_section_display": true,
   "toc_window_display": false
  }
 },
 "nbformat": 4,
 "nbformat_minor": 5
}
