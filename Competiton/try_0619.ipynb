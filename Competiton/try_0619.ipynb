{
 "cells": [
  {
   "cell_type": "code",
   "execution_count": 2,
   "id": "4ce00c0b",
   "metadata": {
    "ExecuteTime": {
     "end_time": "2021-06-19T05:49:08.560545Z",
     "start_time": "2021-06-19T05:49:07.965159Z"
    }
   },
   "outputs": [
    {
     "name": "stdout",
     "output_type": "stream",
     "text": [
      "Untitled.ipynb\tdataset\r\n"
     ]
    }
   ],
   "source": [
    "!ls"
   ]
  },
  {
   "cell_type": "code",
   "execution_count": 3,
   "id": "94c37da1",
   "metadata": {
    "ExecuteTime": {
     "end_time": "2021-06-19T05:49:11.561991Z",
     "start_time": "2021-06-19T05:49:10.961879Z"
    }
   },
   "outputs": [
    {
     "name": "stdout",
     "output_type": "stream",
     "text": [
      "test.csv  train.csv\r\n"
     ]
    }
   ],
   "source": [
    "!ls dataset"
   ]
  },
  {
   "cell_type": "code",
   "execution_count": 6,
   "id": "f3454a3f",
   "metadata": {
    "ExecuteTime": {
     "end_time": "2021-06-19T05:49:48.883788Z",
     "start_time": "2021-06-19T05:49:48.626262Z"
    }
   },
   "outputs": [],
   "source": [
    "import pandas as pd"
   ]
  },
  {
   "cell_type": "code",
   "execution_count": 139,
   "id": "17feaccb",
   "metadata": {
    "ExecuteTime": {
     "end_time": "2021-06-19T07:37:42.112342Z",
     "start_time": "2021-06-19T07:37:41.957179Z"
    }
   },
   "outputs": [],
   "source": [
    "train = pd.read_csv('dataset/train.csv')\n",
    "test = pd.read_csv('dataset/test.csv')"
   ]
  },
  {
   "cell_type": "code",
   "execution_count": 14,
   "id": "dd4b06de",
   "metadata": {
    "ExecuteTime": {
     "end_time": "2021-06-19T06:09:47.470680Z",
     "start_time": "2021-06-19T06:09:47.418911Z"
    }
   },
   "outputs": [
    {
     "name": "stdout",
     "output_type": "stream",
     "text": [
      "<class 'pandas.core.frame.DataFrame'>\n",
      "RangeIndex: 21189 entries, 0 to 21188\n",
      "Data columns (total 16 columns):\n",
      " #   Column                   Non-Null Count  Dtype  \n",
      "---  ------                   --------------  -----  \n",
      " 0   UNC_YEAR                 21189 non-null  int64  \n",
      " 1   HSCD                     21189 non-null  int64  \n",
      " 2   COUNTRYCD                21189 non-null  int64  \n",
      " 3   COUNTRYNM                21189 non-null  object \n",
      " 4   TRADE_COUNTRYCD          21189 non-null  int64  \n",
      " 5   TRADE_HSCD               21189 non-null  int64  \n",
      " 6   TARIFF_AVG               21060 non-null  float64\n",
      " 7   SNDIST                   21167 non-null  float64\n",
      " 8   NY_GDP_MKTP_CD           21189 non-null  int64  \n",
      " 9   NY_GDP_MKTP_CD_1Y        21189 non-null  int64  \n",
      " 10  SP_POP_TOTL              21189 non-null  int64  \n",
      " 11  PA_NUS_FCRF              17701 non-null  float64\n",
      " 12  IC_BUS_EASE_DFRN_DB      21189 non-null  float64\n",
      " 13  KMDIST                   21189 non-null  float64\n",
      " 14  TRADE_HSCD_COUNTRYCD     21168 non-null  float64\n",
      " 15  KR_TRADE_HSCD_COUNTRYCD  21189 non-null  int64  \n",
      "dtypes: float64(6), int64(9), object(1)\n",
      "memory usage: 2.6+ MB\n"
     ]
    },
    {
     "data": {
      "text/plain": [
       "None"
      ]
     },
     "metadata": {},
     "output_type": "display_data"
    },
    {
     "name": "stdout",
     "output_type": "stream",
     "text": [
      "<class 'pandas.core.frame.DataFrame'>\n",
      "RangeIndex: 21189 entries, 0 to 21188\n",
      "Data columns (total 16 columns):\n",
      " #   Column                   Non-Null Count  Dtype  \n",
      "---  ------                   --------------  -----  \n",
      " 0   UNC_YEAR                 21189 non-null  int64  \n",
      " 1   HSCD                     21189 non-null  int64  \n",
      " 2   COUNTRYCD                21189 non-null  int64  \n",
      " 3   COUNTRYNM                21189 non-null  object \n",
      " 4   TRADE_COUNTRYCD          21189 non-null  int64  \n",
      " 5   TRADE_HSCD               21189 non-null  float64\n",
      " 6   TARIFF_AVG               20564 non-null  float64\n",
      " 7   SNDIST                   21186 non-null  float64\n",
      " 8   NY_GDP_MKTP_CD           21189 non-null  int64  \n",
      " 9   NY_GDP_MKTP_CD_1Y        21189 non-null  int64  \n",
      " 10  SP_POP_TOTL              21189 non-null  float64\n",
      " 11  PA_NUS_FCRF              17701 non-null  float64\n",
      " 12  IC_BUS_EASE_DFRN_DB      21189 non-null  float64\n",
      " 13  KMDIST                   21189 non-null  float64\n",
      " 14  TRADE_HSCD_COUNTRYCD     21186 non-null  float64\n",
      " 15  KR_TRADE_HSCD_COUNTRYCD  0 non-null      float64\n",
      "dtypes: float64(9), int64(6), object(1)\n",
      "memory usage: 2.6+ MB\n"
     ]
    },
    {
     "data": {
      "text/plain": [
       "None"
      ]
     },
     "metadata": {},
     "output_type": "display_data"
    }
   ],
   "source": [
    "display(train.info())\n",
    "display(test.info())"
   ]
  },
  {
   "cell_type": "markdown",
   "id": "a5688cb5",
   "metadata": {},
   "source": [
    "# TabNet?"
   ]
  },
  {
   "cell_type": "markdown",
   "id": "e2a096c0",
   "metadata": {},
   "source": [
    "1. TabNet inputs raw tabular data _without any preprocessing_ and is trained using _gradient descent_-based optimisation.\n",
    "\n",
    "\n",
    "2. TabNet use _sequential attention_ to choose featuers at each decision step, enabling _interpretability_ and better learning as the _learning capaciy is used for the most useful features._\n",
    "\n",
    "\n",
    "3. _Feature selection is instance-wise_\n",
    "\n",
    "\n",
    "4. TabNet employs a _single deep learning architecture_ for feature selection and reasoning, this is known as soft feature selection.\n",
    "\n",
    "\n",
    "5. two knids of interpretability treatments availabilty. \n",
    "\n",
    "\n",
    "    5.1 __local interpretability__ ; visulises the imporatnce of features and how they are combined for a single row.\n",
    "\n",
    "\n",
    "    5.2 __global interpretability__ ; quantifies the conritubtion of each feautres to the trained model across the dataset."
   ]
  },
  {
   "cell_type": "markdown",
   "id": "edc568bd",
   "metadata": {},
   "source": [
    "## Factor\n",
    "\n",
    "1. Steps\n",
    "\n",
    "The number of _Steps_ is a hyperparameter option when training the model. Increasing this will increase the __learning capacity__ of the model. but will also increase training time, memory usage and the chance of __overfitting__.\n",
    "\n",
    "__Step__ gets its own vote in the final clasification and these votes are equally weighted. -> _ensemble classification_\n",
    "\n",
    "2. Feature transformer\n",
    "\n",
    "다양한 레이어들이 존재한다 , 그 레이어를 통해 매 step(final classification 으로 도출된 결과 (vote)) 를 shared 하게 됨. 각각의 layer 에는 완전연결층 , batch normalization , Gated Linear Unit activation 총 3개가 포함되어 있음. "
   ]
  },
  {
   "cell_type": "code",
   "execution_count": null,
   "id": "a4df787e",
   "metadata": {},
   "outputs": [],
   "source": []
  },
  {
   "cell_type": "markdown",
   "id": "adcbddfb",
   "metadata": {},
   "source": [
    "Attentive Transformer 그리고 Mask 를 통해 feature selection 을 할수 있음.\n",
    "\n",
    "_Attentive Transformer_은 __fully conntected layer, batch normalisation , Sparsemax noramlisation__으로 구성되어 있음.\n",
    "\n",
    "prior scales 라는 장치가 포함되어있는데 그건 각 feature 가 이전 step에서 얼마만큼 쓰엿는가를 확인할 수 있음 . 이를 통해 Mask 를 활용하게 되는데 이 때 Mask 는 model 이 important faeture 그리고 explainability 를 위해 활용이 됨. \n",
    "\n",
    "최종적으로 decision 그리고 개개인의 prediction을 호가인할 때 각각의 mask가 feature 어떻게 반영되어있는지를 이해함으로써 feature importance를 확인할 수 있음."
   ]
  },
  {
   "cell_type": "code",
   "execution_count": null,
   "id": "404bad2b",
   "metadata": {},
   "outputs": [],
   "source": []
  },
  {
   "cell_type": "markdown",
   "id": "ce4250db",
   "metadata": {},
   "source": [
    "## TabNet uses instance-wise feature selection, which means features are selected for each input and each prediction can use different features."
   ]
  },
  {
   "cell_type": "code",
   "execution_count": null,
   "id": "caf4aaf8",
   "metadata": {},
   "outputs": [],
   "source": []
  },
  {
   "cell_type": "markdown",
   "id": "2c947ef6",
   "metadata": {},
   "source": [
    "__Feautre Importances__\n",
    "\n",
    "We can view importances of our individual features which nicely add up to 1.\n",
    "\n",
    "When we get this data out of a tree-based model it can be skewed towards one variable, or categorical variables with a large number of unique values.\n",
    "\n",
    "In some cases, this can misrepresent what the model is actually doing.\n",
    "\n",
    "__We see a much greater spread of importance when TabNet is used, meaning it is using features more equally.__"
   ]
  },
  {
   "cell_type": "code",
   "execution_count": null,
   "id": "51418059",
   "metadata": {},
   "outputs": [],
   "source": []
  },
  {
   "cell_type": "markdown",
   "id": "f08a3905",
   "metadata": {},
   "source": [
    "## Conclusion\n",
    "\n",
    "TabNet is a deep learning model for tabular learning.\n",
    "\n",
    "IT uses sequential attention to choose a subset of meaningful featuers to process at each decision step.\n",
    "\n",
    "Instance-wise feature selection allows the model's learning capacity to be foucsed on the most important features and visualisation of the models' masks provide explainabillity."
   ]
  },
  {
   "cell_type": "markdown",
   "id": "3d236d05",
   "metadata": {},
   "source": [
    "# Start"
   ]
  },
  {
   "cell_type": "markdown",
   "id": "ce1883fb",
   "metadata": {},
   "source": [
    "## Data load"
   ]
  },
  {
   "cell_type": "code",
   "execution_count": 17,
   "id": "7ce15e57",
   "metadata": {
    "ExecuteTime": {
     "end_time": "2021-06-19T06:21:22.146198Z",
     "start_time": "2021-06-19T06:21:22.091211Z"
    }
   },
   "outputs": [
    {
     "data": {
      "text/html": [
       "<div>\n",
       "<style scoped>\n",
       "    .dataframe tbody tr th:only-of-type {\n",
       "        vertical-align: middle;\n",
       "    }\n",
       "\n",
       "    .dataframe tbody tr th {\n",
       "        vertical-align: top;\n",
       "    }\n",
       "\n",
       "    .dataframe thead th {\n",
       "        text-align: right;\n",
       "    }\n",
       "</style>\n",
       "<table border=\"1\" class=\"dataframe\">\n",
       "  <thead>\n",
       "    <tr style=\"text-align: right;\">\n",
       "      <th></th>\n",
       "      <th>UNC_YEAR</th>\n",
       "      <th>HSCD</th>\n",
       "      <th>COUNTRYCD</th>\n",
       "      <th>COUNTRYNM</th>\n",
       "      <th>TRADE_COUNTRYCD</th>\n",
       "      <th>TRADE_HSCD</th>\n",
       "      <th>TARIFF_AVG</th>\n",
       "      <th>SNDIST</th>\n",
       "      <th>NY_GDP_MKTP_CD</th>\n",
       "      <th>NY_GDP_MKTP_CD_1Y</th>\n",
       "      <th>SP_POP_TOTL</th>\n",
       "      <th>PA_NUS_FCRF</th>\n",
       "      <th>IC_BUS_EASE_DFRN_DB</th>\n",
       "      <th>KMDIST</th>\n",
       "      <th>TRADE_HSCD_COUNTRYCD</th>\n",
       "      <th>KR_TRADE_HSCD_COUNTRYCD</th>\n",
       "    </tr>\n",
       "  </thead>\n",
       "  <tbody>\n",
       "    <tr>\n",
       "      <th>0</th>\n",
       "      <td>2017</td>\n",
       "      <td>190590</td>\n",
       "      <td>12</td>\n",
       "      <td>Algeria</td>\n",
       "      <td>46052990973</td>\n",
       "      <td>19480986257</td>\n",
       "      <td>30.0</td>\n",
       "      <td>3878.238437</td>\n",
       "      <td>170163165961</td>\n",
       "      <td>159994837855</td>\n",
       "      <td>41389198</td>\n",
       "      <td>110.973017</td>\n",
       "      <td>46.109810</td>\n",
       "      <td>9954.009766</td>\n",
       "      <td>3.416326e+06</td>\n",
       "      <td>7657</td>\n",
       "    </tr>\n",
       "    <tr>\n",
       "      <th>1</th>\n",
       "      <td>2017</td>\n",
       "      <td>190590</td>\n",
       "      <td>36</td>\n",
       "      <td>Australia</td>\n",
       "      <td>228441691195</td>\n",
       "      <td>19480986257</td>\n",
       "      <td>0.0</td>\n",
       "      <td>12203.155980</td>\n",
       "      <td>1329188475752</td>\n",
       "      <td>1208846993740</td>\n",
       "      <td>24601860</td>\n",
       "      <td>1.304758</td>\n",
       "      <td>80.223690</td>\n",
       "      <td>8329.652344</td>\n",
       "      <td>4.387470e+08</td>\n",
       "      <td>5294788</td>\n",
       "    </tr>\n",
       "    <tr>\n",
       "      <th>2</th>\n",
       "      <td>2017</td>\n",
       "      <td>190590</td>\n",
       "      <td>40</td>\n",
       "      <td>Austria</td>\n",
       "      <td>166475020975</td>\n",
       "      <td>19480986257</td>\n",
       "      <td>0.0</td>\n",
       "      <td>4403.247293</td>\n",
       "      <td>417237869116</td>\n",
       "      <td>395568644341</td>\n",
       "      <td>8797566</td>\n",
       "      <td>NaN</td>\n",
       "      <td>78.856460</td>\n",
       "      <td>8289.029297</td>\n",
       "      <td>4.532064e+08</td>\n",
       "      <td>335818</td>\n",
       "    </tr>\n",
       "    <tr>\n",
       "      <th>3</th>\n",
       "      <td>2017</td>\n",
       "      <td>190590</td>\n",
       "      <td>56</td>\n",
       "      <td>Belgium</td>\n",
       "      <td>406412223480</td>\n",
       "      <td>19480986257</td>\n",
       "      <td>0.0</td>\n",
       "      <td>3980.375563</td>\n",
       "      <td>502698069367</td>\n",
       "      <td>475739588765</td>\n",
       "      <td>11375158</td>\n",
       "      <td>NaN</td>\n",
       "      <td>72.409200</td>\n",
       "      <td>8722.114258</td>\n",
       "      <td>7.065245e+08</td>\n",
       "      <td>173709</td>\n",
       "    </tr>\n",
       "    <tr>\n",
       "      <th>4</th>\n",
       "      <td>2017</td>\n",
       "      <td>190590</td>\n",
       "      <td>76</td>\n",
       "      <td>Brazil</td>\n",
       "      <td>150749493921</td>\n",
       "      <td>19480986257</td>\n",
       "      <td>18.0</td>\n",
       "      <td>9644.206941</td>\n",
       "      <td>2062831045936</td>\n",
       "      <td>1795700168991</td>\n",
       "      <td>207833831</td>\n",
       "      <td>3.191389</td>\n",
       "      <td>55.382403</td>\n",
       "      <td>18364.505860</td>\n",
       "      <td>3.132965e+07</td>\n",
       "      <td>122850</td>\n",
       "    </tr>\n",
       "    <tr>\n",
       "      <th>...</th>\n",
       "      <td>...</td>\n",
       "      <td>...</td>\n",
       "      <td>...</td>\n",
       "      <td>...</td>\n",
       "      <td>...</td>\n",
       "      <td>...</td>\n",
       "      <td>...</td>\n",
       "      <td>...</td>\n",
       "      <td>...</td>\n",
       "      <td>...</td>\n",
       "      <td>...</td>\n",
       "      <td>...</td>\n",
       "      <td>...</td>\n",
       "      <td>...</td>\n",
       "      <td>...</td>\n",
       "      <td>...</td>\n",
       "    </tr>\n",
       "    <tr>\n",
       "      <th>21184</th>\n",
       "      <td>2017</td>\n",
       "      <td>852852</td>\n",
       "      <td>784</td>\n",
       "      <td>United Arab Emirates</td>\n",
       "      <td>270954907547</td>\n",
       "      <td>18327708223</td>\n",
       "      <td>NaN</td>\n",
       "      <td>5643.250737</td>\n",
       "      <td>385605506855</td>\n",
       "      <td>357045064670</td>\n",
       "      <td>9487203</td>\n",
       "      <td>3.672500</td>\n",
       "      <td>77.434350</td>\n",
       "      <td>6909.236328</td>\n",
       "      <td>2.056493e+08</td>\n",
       "      <td>881214</td>\n",
       "    </tr>\n",
       "    <tr>\n",
       "      <th>21185</th>\n",
       "      <td>2017</td>\n",
       "      <td>852852</td>\n",
       "      <td>792</td>\n",
       "      <td>Turkey</td>\n",
       "      <td>233799651234</td>\n",
       "      <td>18327708223</td>\n",
       "      <td>NaN</td>\n",
       "      <td>4123.461111</td>\n",
       "      <td>858988610574</td>\n",
       "      <td>869683121563</td>\n",
       "      <td>81101892</td>\n",
       "      <td>3.648133</td>\n",
       "      <td>69.378820</td>\n",
       "      <td>7967.700684</td>\n",
       "      <td>1.330809e+08</td>\n",
       "      <td>9545535</td>\n",
       "    </tr>\n",
       "    <tr>\n",
       "      <th>21186</th>\n",
       "      <td>2017</td>\n",
       "      <td>852852</td>\n",
       "      <td>818</td>\n",
       "      <td>Egypt</td>\n",
       "      <td>66338749061</td>\n",
       "      <td>18327708223</td>\n",
       "      <td>NaN</td>\n",
       "      <td>NaN</td>\n",
       "      <td>235733695652</td>\n",
       "      <td>332441717791</td>\n",
       "      <td>96442593</td>\n",
       "      <td>17.782534</td>\n",
       "      <td>55.474280</td>\n",
       "      <td>8497.368164</td>\n",
       "      <td>NaN</td>\n",
       "      <td>1313545</td>\n",
       "    </tr>\n",
       "    <tr>\n",
       "      <th>21187</th>\n",
       "      <td>2017</td>\n",
       "      <td>852852</td>\n",
       "      <td>826</td>\n",
       "      <td>United Kingdom</td>\n",
       "      <td>641332371112</td>\n",
       "      <td>18327708223</td>\n",
       "      <td>NaN</td>\n",
       "      <td>4071.487776</td>\n",
       "      <td>2666229179958</td>\n",
       "      <td>2694283209613</td>\n",
       "      <td>66058859</td>\n",
       "      <td>0.776977</td>\n",
       "      <td>83.341080</td>\n",
       "      <td>8875.389648</td>\n",
       "      <td>1.142794e+09</td>\n",
       "      <td>19876811</td>\n",
       "    </tr>\n",
       "    <tr>\n",
       "      <th>21188</th>\n",
       "      <td>2017</td>\n",
       "      <td>852852</td>\n",
       "      <td>842</td>\n",
       "      <td>USA</td>\n",
       "      <td>2405276626657</td>\n",
       "      <td>18327708223</td>\n",
       "      <td>NaN</td>\n",
       "      <td>8356.072383</td>\n",
       "      <td>19519353692000</td>\n",
       "      <td>18714960538000</td>\n",
       "      <td>324985539</td>\n",
       "      <td>1.000000</td>\n",
       "      <td>83.352553</td>\n",
       "      <td>11065.702150</td>\n",
       "      <td>5.496100e+09</td>\n",
       "      <td>152988098</td>\n",
       "    </tr>\n",
       "  </tbody>\n",
       "</table>\n",
       "<p>21189 rows × 16 columns</p>\n",
       "</div>"
      ],
      "text/plain": [
       "       UNC_YEAR    HSCD  COUNTRYCD             COUNTRYNM  TRADE_COUNTRYCD  \\\n",
       "0          2017  190590         12               Algeria      46052990973   \n",
       "1          2017  190590         36             Australia     228441691195   \n",
       "2          2017  190590         40               Austria     166475020975   \n",
       "3          2017  190590         56               Belgium     406412223480   \n",
       "4          2017  190590         76                Brazil     150749493921   \n",
       "...         ...     ...        ...                   ...              ...   \n",
       "21184      2017  852852        784  United Arab Emirates     270954907547   \n",
       "21185      2017  852852        792                Turkey     233799651234   \n",
       "21186      2017  852852        818                 Egypt      66338749061   \n",
       "21187      2017  852852        826        United Kingdom     641332371112   \n",
       "21188      2017  852852        842                   USA    2405276626657   \n",
       "\n",
       "        TRADE_HSCD  TARIFF_AVG        SNDIST  NY_GDP_MKTP_CD  \\\n",
       "0      19480986257        30.0   3878.238437    170163165961   \n",
       "1      19480986257         0.0  12203.155980   1329188475752   \n",
       "2      19480986257         0.0   4403.247293    417237869116   \n",
       "3      19480986257         0.0   3980.375563    502698069367   \n",
       "4      19480986257        18.0   9644.206941   2062831045936   \n",
       "...            ...         ...           ...             ...   \n",
       "21184  18327708223         NaN   5643.250737    385605506855   \n",
       "21185  18327708223         NaN   4123.461111    858988610574   \n",
       "21186  18327708223         NaN           NaN    235733695652   \n",
       "21187  18327708223         NaN   4071.487776   2666229179958   \n",
       "21188  18327708223         NaN   8356.072383  19519353692000   \n",
       "\n",
       "       NY_GDP_MKTP_CD_1Y  SP_POP_TOTL  PA_NUS_FCRF  IC_BUS_EASE_DFRN_DB  \\\n",
       "0           159994837855     41389198   110.973017            46.109810   \n",
       "1          1208846993740     24601860     1.304758            80.223690   \n",
       "2           395568644341      8797566          NaN            78.856460   \n",
       "3           475739588765     11375158          NaN            72.409200   \n",
       "4          1795700168991    207833831     3.191389            55.382403   \n",
       "...                  ...          ...          ...                  ...   \n",
       "21184       357045064670      9487203     3.672500            77.434350   \n",
       "21185       869683121563     81101892     3.648133            69.378820   \n",
       "21186       332441717791     96442593    17.782534            55.474280   \n",
       "21187      2694283209613     66058859     0.776977            83.341080   \n",
       "21188     18714960538000    324985539     1.000000            83.352553   \n",
       "\n",
       "             KMDIST  TRADE_HSCD_COUNTRYCD  KR_TRADE_HSCD_COUNTRYCD  \n",
       "0       9954.009766          3.416326e+06                     7657  \n",
       "1       8329.652344          4.387470e+08                  5294788  \n",
       "2       8289.029297          4.532064e+08                   335818  \n",
       "3       8722.114258          7.065245e+08                   173709  \n",
       "4      18364.505860          3.132965e+07                   122850  \n",
       "...             ...                   ...                      ...  \n",
       "21184   6909.236328          2.056493e+08                   881214  \n",
       "21185   7967.700684          1.330809e+08                  9545535  \n",
       "21186   8497.368164                   NaN                  1313545  \n",
       "21187   8875.389648          1.142794e+09                 19876811  \n",
       "21188  11065.702150          5.496100e+09                152988098  \n",
       "\n",
       "[21189 rows x 16 columns]"
      ]
     },
     "execution_count": 17,
     "metadata": {},
     "output_type": "execute_result"
    }
   ],
   "source": [
    "train"
   ]
  },
  {
   "cell_type": "code",
   "execution_count": 18,
   "id": "74299595",
   "metadata": {
    "ExecuteTime": {
     "end_time": "2021-06-19T06:21:55.677564Z",
     "start_time": "2021-06-19T06:21:55.661417Z"
    }
   },
   "outputs": [
    {
     "data": {
      "text/plain": [
       "0             7657\n",
       "1          5294788\n",
       "2           335818\n",
       "3           173709\n",
       "4           122850\n",
       "           ...    \n",
       "21184       881214\n",
       "21185      9545535\n",
       "21186      1313545\n",
       "21187     19876811\n",
       "21188    152988098\n",
       "Name: KR_TRADE_HSCD_COUNTRYCD, Length: 21189, dtype: int64"
      ]
     },
     "execution_count": 18,
     "metadata": {},
     "output_type": "execute_result"
    }
   ],
   "source": [
    "train['KR_TRADE_HSCD_COUNTRYCD']"
   ]
  },
  {
   "cell_type": "code",
   "execution_count": 19,
   "id": "15099e91",
   "metadata": {
    "ExecuteTime": {
     "end_time": "2021-06-19T06:23:14.297497Z",
     "start_time": "2021-06-19T06:23:14.284550Z"
    }
   },
   "outputs": [
    {
     "data": {
      "text/plain": [
       "(21189, 16)"
      ]
     },
     "execution_count": 19,
     "metadata": {},
     "output_type": "execute_result"
    }
   ],
   "source": [
    "train.shape"
   ]
  },
  {
   "attachments": {
    "image.png": {
     "image/png": "[encoded data removed]"
    }
   },
   "cell_type": "markdown",
   "id": "fdd41b12",
   "metadata": {},
   "source": [
    "## Data describe\n",
    "\n",
    "UNC_YEAR\t기준연도\tYYYY\n",
    "\n",
    "HSCD\tHS Code (품목코드)\t6자리 숫자코드\n",
    "\n",
    "COUNTRYCD\tISO 국가코드\t숫자코드\n",
    "\n",
    "COUNTRYNM\t영문 국가명\tCharacter\n",
    "\n",
    "TRADE_COUNTRYCD\t해당 연도 해당 국가의 전체 품목 수입금액\tUS$\n",
    "\n",
    "TRADE_HSCD\t해당 연도 해당 품목의 전세계 총 수입금액\tUS$\n",
    "\n",
    "TARIFF_AVG\t해당 국가에서 해당 품목에 적용되는 평균 관세율\t%\n",
    "\n",
    "SNDIST\t해당 국가와 수입 국가 간 평균 거리\tkm\n",
    "\n",
    "NY_GDP_MKTP_CD\tGDP\tUS$\n",
    "\n",
    "NY_GDP_MKTP_CD_1Y\t이전년도 GDP\tUS$\n",
    "\n",
    "SP_POP_TOTL\t인구 (연중 추정치)\t명\n",
    "\n",
    "PA_NUS_FCRF\t공식 환율 (미국 달러에 대한 현지 통화 단위, 월평균을 기준으로 한 연평균)\tUS$\n",
    "\n",
    "IC_BUS_EASE_DFRN_DB\t비즈니스 용이성 점수\t점수 (0~100)\n",
    "\n",
    "KMDIST\t해당 국가와 한국과의 거리\tkm\n",
    "\n",
    "TRADE_HSCD_COUNTRYCD\t해당 연도 해당 국가의 해당 품목 수입금액\tUS$\n",
    "\n",
    "KR_TRADE_HSCD_COUNTRYCD\t내년 해당 국가가 해당 품목을 한국으로부터 수입한 금액\tUS$\n",
    "\n",
    "![image.png](attachment:image.png)"
   ]
  },
  {
   "cell_type": "code",
   "execution_count": 22,
   "id": "1334f650",
   "metadata": {
    "ExecuteTime": {
     "end_time": "2021-06-19T06:26:03.683410Z",
     "start_time": "2021-06-19T06:26:03.647889Z"
    }
   },
   "outputs": [
    {
     "data": {
      "text/html": [
       "<div>\n",
       "<style scoped>\n",
       "    .dataframe tbody tr th:only-of-type {\n",
       "        vertical-align: middle;\n",
       "    }\n",
       "\n",
       "    .dataframe tbody tr th {\n",
       "        vertical-align: top;\n",
       "    }\n",
       "\n",
       "    .dataframe thead th {\n",
       "        text-align: right;\n",
       "    }\n",
       "</style>\n",
       "<table border=\"1\" class=\"dataframe\">\n",
       "  <thead>\n",
       "    <tr style=\"text-align: right;\">\n",
       "      <th></th>\n",
       "      <th>UNC_YEAR</th>\n",
       "      <th>HSCD</th>\n",
       "      <th>COUNTRYCD</th>\n",
       "      <th>COUNTRYNM</th>\n",
       "      <th>TRADE_COUNTRYCD</th>\n",
       "      <th>TRADE_HSCD</th>\n",
       "      <th>TARIFF_AVG</th>\n",
       "      <th>SNDIST</th>\n",
       "      <th>NY_GDP_MKTP_CD</th>\n",
       "      <th>NY_GDP_MKTP_CD_1Y</th>\n",
       "      <th>SP_POP_TOTL</th>\n",
       "      <th>PA_NUS_FCRF</th>\n",
       "      <th>IC_BUS_EASE_DFRN_DB</th>\n",
       "      <th>KMDIST</th>\n",
       "      <th>TRADE_HSCD_COUNTRYCD</th>\n",
       "      <th>KR_TRADE_HSCD_COUNTRYCD</th>\n",
       "    </tr>\n",
       "  </thead>\n",
       "  <tbody>\n",
       "    <tr>\n",
       "      <th>19286</th>\n",
       "      <td>2017</td>\n",
       "      <td>841370</td>\n",
       "      <td>124</td>\n",
       "      <td>Canada</td>\n",
       "      <td>432405117520</td>\n",
       "      <td>11740537214</td>\n",
       "      <td>0.0</td>\n",
       "      <td>8020.120018</td>\n",
       "      <td>1649878054227</td>\n",
       "      <td>1528243213982</td>\n",
       "      <td>36543321</td>\n",
       "      <td>1.297936</td>\n",
       "      <td>79.540940</td>\n",
       "      <td>10617.703130</td>\n",
       "      <td>433402623.0</td>\n",
       "      <td>1027310</td>\n",
       "    </tr>\n",
       "    <tr>\n",
       "      <th>14638</th>\n",
       "      <td>2017</td>\n",
       "      <td>851110</td>\n",
       "      <td>104</td>\n",
       "      <td>Myanmar</td>\n",
       "      <td>19253441935</td>\n",
       "      <td>2788029589</td>\n",
       "      <td>5.0</td>\n",
       "      <td>5131.499613</td>\n",
       "      <td>68945867478</td>\n",
       "      <td>67184236747</td>\n",
       "      <td>53382581</td>\n",
       "      <td>1360.358707</td>\n",
       "      <td>42.671390</td>\n",
       "      <td>3796.142578</td>\n",
       "      <td>2055444.0</td>\n",
       "      <td>90</td>\n",
       "    </tr>\n",
       "    <tr>\n",
       "      <th>8645</th>\n",
       "      <td>2017</td>\n",
       "      <td>902214</td>\n",
       "      <td>344</td>\n",
       "      <td>China, Hong Kong SAR</td>\n",
       "      <td>589317409641</td>\n",
       "      <td>5026247770</td>\n",
       "      <td>0.0</td>\n",
       "      <td>6955.600055</td>\n",
       "      <td>341244161577</td>\n",
       "      <td>320837638329</td>\n",
       "      <td>7391700</td>\n",
       "      <td>7.793250</td>\n",
       "      <td>84.760590</td>\n",
       "      <td>2095.842529</td>\n",
       "      <td>15411046.0</td>\n",
       "      <td>723587</td>\n",
       "    </tr>\n",
       "    <tr>\n",
       "      <th>12790</th>\n",
       "      <td>2017</td>\n",
       "      <td>852910</td>\n",
       "      <td>360</td>\n",
       "      <td>Indonesia</td>\n",
       "      <td>156925129942</td>\n",
       "      <td>5565264476</td>\n",
       "      <td>0.0</td>\n",
       "      <td>8687.850087</td>\n",
       "      <td>1015618742566</td>\n",
       "      <td>931877364178</td>\n",
       "      <td>264645886</td>\n",
       "      <td>13380.833880</td>\n",
       "      <td>64.528933</td>\n",
       "      <td>5291.683594</td>\n",
       "      <td>85727037.0</td>\n",
       "      <td>2441088</td>\n",
       "    </tr>\n",
       "    <tr>\n",
       "      <th>20395</th>\n",
       "      <td>2017</td>\n",
       "      <td>830160</td>\n",
       "      <td>203</td>\n",
       "      <td>Czechia</td>\n",
       "      <td>162898931578</td>\n",
       "      <td>3097417404</td>\n",
       "      <td>0.0</td>\n",
       "      <td>3745.180436</td>\n",
       "      <td>218628940952</td>\n",
       "      <td>196272068576</td>\n",
       "      <td>10594438</td>\n",
       "      <td>23.376333</td>\n",
       "      <td>76.388340</td>\n",
       "      <td>8262.062500</td>\n",
       "      <td>236017979.0</td>\n",
       "      <td>2531124</td>\n",
       "    </tr>\n",
       "  </tbody>\n",
       "</table>\n",
       "</div>"
      ],
      "text/plain": [
       "       UNC_YEAR    HSCD  COUNTRYCD             COUNTRYNM  TRADE_COUNTRYCD  \\\n",
       "19286      2017  841370        124                Canada     432405117520   \n",
       "14638      2017  851110        104               Myanmar      19253441935   \n",
       "8645       2017  902214        344  China, Hong Kong SAR     589317409641   \n",
       "12790      2017  852910        360             Indonesia     156925129942   \n",
       "20395      2017  830160        203               Czechia     162898931578   \n",
       "\n",
       "        TRADE_HSCD  TARIFF_AVG       SNDIST  NY_GDP_MKTP_CD  \\\n",
       "19286  11740537214         0.0  8020.120018   1649878054227   \n",
       "14638   2788029589         5.0  5131.499613     68945867478   \n",
       "8645    5026247770         0.0  6955.600055    341244161577   \n",
       "12790   5565264476         0.0  8687.850087   1015618742566   \n",
       "20395   3097417404         0.0  3745.180436    218628940952   \n",
       "\n",
       "       NY_GDP_MKTP_CD_1Y  SP_POP_TOTL   PA_NUS_FCRF  IC_BUS_EASE_DFRN_DB  \\\n",
       "19286      1528243213982     36543321      1.297936            79.540940   \n",
       "14638        67184236747     53382581   1360.358707            42.671390   \n",
       "8645        320837638329      7391700      7.793250            84.760590   \n",
       "12790       931877364178    264645886  13380.833880            64.528933   \n",
       "20395       196272068576     10594438     23.376333            76.388340   \n",
       "\n",
       "             KMDIST  TRADE_HSCD_COUNTRYCD  KR_TRADE_HSCD_COUNTRYCD  \n",
       "19286  10617.703130           433402623.0                  1027310  \n",
       "14638   3796.142578             2055444.0                       90  \n",
       "8645    2095.842529            15411046.0                   723587  \n",
       "12790   5291.683594            85727037.0                  2441088  \n",
       "20395   8262.062500           236017979.0                  2531124  "
      ]
     },
     "execution_count": 22,
     "metadata": {},
     "output_type": "execute_result"
    }
   ],
   "source": [
    "train.sample(5)"
   ]
  },
  {
   "cell_type": "code",
   "execution_count": 20,
   "id": "96cd0fd3",
   "metadata": {
    "ExecuteTime": {
     "end_time": "2021-06-19T06:23:21.132581Z",
     "start_time": "2021-06-19T06:23:21.034104Z"
    }
   },
   "outputs": [
    {
     "data": {
      "text/html": [
       "<div>\n",
       "<style scoped>\n",
       "    .dataframe tbody tr th:only-of-type {\n",
       "        vertical-align: middle;\n",
       "    }\n",
       "\n",
       "    .dataframe tbody tr th {\n",
       "        vertical-align: top;\n",
       "    }\n",
       "\n",
       "    .dataframe thead th {\n",
       "        text-align: right;\n",
       "    }\n",
       "</style>\n",
       "<table border=\"1\" class=\"dataframe\">\n",
       "  <thead>\n",
       "    <tr style=\"text-align: right;\">\n",
       "      <th></th>\n",
       "      <th>UNC_YEAR</th>\n",
       "      <th>HSCD</th>\n",
       "      <th>COUNTRYCD</th>\n",
       "      <th>TRADE_COUNTRYCD</th>\n",
       "      <th>TRADE_HSCD</th>\n",
       "      <th>TARIFF_AVG</th>\n",
       "      <th>SNDIST</th>\n",
       "      <th>NY_GDP_MKTP_CD</th>\n",
       "      <th>NY_GDP_MKTP_CD_1Y</th>\n",
       "      <th>SP_POP_TOTL</th>\n",
       "      <th>PA_NUS_FCRF</th>\n",
       "      <th>IC_BUS_EASE_DFRN_DB</th>\n",
       "      <th>KMDIST</th>\n",
       "      <th>TRADE_HSCD_COUNTRYCD</th>\n",
       "      <th>KR_TRADE_HSCD_COUNTRYCD</th>\n",
       "    </tr>\n",
       "  </thead>\n",
       "  <tbody>\n",
       "    <tr>\n",
       "      <th>count</th>\n",
       "      <td>21189.0</td>\n",
       "      <td>21189.000000</td>\n",
       "      <td>21189.00000</td>\n",
       "      <td>2.118900e+04</td>\n",
       "      <td>2.118900e+04</td>\n",
       "      <td>21060.000000</td>\n",
       "      <td>21167.000000</td>\n",
       "      <td>2.118900e+04</td>\n",
       "      <td>2.118900e+04</td>\n",
       "      <td>2.118900e+04</td>\n",
       "      <td>17701.000000</td>\n",
       "      <td>21189.000000</td>\n",
       "      <td>21189.000000</td>\n",
       "      <td>2.116800e+04</td>\n",
       "      <td>2.118900e+04</td>\n",
       "    </tr>\n",
       "    <tr>\n",
       "      <th>mean</th>\n",
       "      <td>2017.0</td>\n",
       "      <td>736897.468120</td>\n",
       "      <td>450.41111</td>\n",
       "      <td>3.424906e+11</td>\n",
       "      <td>1.516928e+10</td>\n",
       "      <td>3.271472</td>\n",
       "      <td>6368.110474</td>\n",
       "      <td>1.644687e+12</td>\n",
       "      <td>1.547985e+12</td>\n",
       "      <td>1.225087e+08</td>\n",
       "      <td>1993.842026</td>\n",
       "      <td>70.723435</td>\n",
       "      <td>7951.616743</td>\n",
       "      <td>3.083345e+08</td>\n",
       "      <td>1.793963e+07</td>\n",
       "    </tr>\n",
       "    <tr>\n",
       "      <th>std</th>\n",
       "      <td>0.0</td>\n",
       "      <td>201427.725252</td>\n",
       "      <td>254.19937</td>\n",
       "      <td>4.639194e+11</td>\n",
       "      <td>3.915677e+10</td>\n",
       "      <td>8.699236</td>\n",
       "      <td>2518.061371</td>\n",
       "      <td>3.433912e+12</td>\n",
       "      <td>3.257228e+12</td>\n",
       "      <td>2.844419e+08</td>\n",
       "      <td>6568.366701</td>\n",
       "      <td>10.562132</td>\n",
       "      <td>4054.057558</td>\n",
       "      <td>2.130044e+09</td>\n",
       "      <td>4.810033e+08</td>\n",
       "    </tr>\n",
       "    <tr>\n",
       "      <th>min</th>\n",
       "      <td>2017.0</td>\n",
       "      <td>190219.000000</td>\n",
       "      <td>12.00000</td>\n",
       "      <td>4.337305e+09</td>\n",
       "      <td>2.436821e+08</td>\n",
       "      <td>0.000000</td>\n",
       "      <td>1172.047241</td>\n",
       "      <td>1.142576e+10</td>\n",
       "      <td>1.118673e+10</td>\n",
       "      <td>3.113779e+06</td>\n",
       "      <td>0.303350</td>\n",
       "      <td>42.671390</td>\n",
       "      <td>955.651062</td>\n",
       "      <td>7.630000e+02</td>\n",
       "      <td>0.000000e+00</td>\n",
       "    </tr>\n",
       "    <tr>\n",
       "      <th>25%</th>\n",
       "      <td>2017.0</td>\n",
       "      <td>640419.000000</td>\n",
       "      <td>203.00000</td>\n",
       "      <td>6.633875e+10</td>\n",
       "      <td>2.469927e+09</td>\n",
       "      <td>0.000000</td>\n",
       "      <td>4376.303156</td>\n",
       "      <td>2.357337e+11</td>\n",
       "      <td>2.504401e+11</td>\n",
       "      <td>1.137516e+07</td>\n",
       "      <td>3.191389</td>\n",
       "      <td>64.528933</td>\n",
       "      <td>4692.671875</td>\n",
       "      <td>1.032367e+07</td>\n",
       "      <td>4.917000e+04</td>\n",
       "    </tr>\n",
       "    <tr>\n",
       "      <th>50%</th>\n",
       "      <td>2017.0</td>\n",
       "      <td>843131.000000</td>\n",
       "      <td>458.00000</td>\n",
       "      <td>2.132153e+11</td>\n",
       "      <td>4.849947e+09</td>\n",
       "      <td>0.000000</td>\n",
       "      <td>5624.930017</td>\n",
       "      <td>4.453453e+11</td>\n",
       "      <td>4.179836e+11</td>\n",
       "      <td>3.797483e+07</td>\n",
       "      <td>7.793250</td>\n",
       "      <td>73.394083</td>\n",
       "      <td>8262.062500</td>\n",
       "      <td>4.082173e+07</td>\n",
       "      <td>3.496490e+05</td>\n",
       "    </tr>\n",
       "    <tr>\n",
       "      <th>75%</th>\n",
       "      <td>2017.0</td>\n",
       "      <td>853329.000000</td>\n",
       "      <td>699.00000</td>\n",
       "      <td>4.324051e+11</td>\n",
       "      <td>1.188559e+10</td>\n",
       "      <td>5.000000</td>\n",
       "      <td>7877.524947</td>\n",
       "      <td>1.574199e+12</td>\n",
       "      <td>1.276787e+12</td>\n",
       "      <td>9.459664e+07</td>\n",
       "      <td>110.973017</td>\n",
       "      <td>78.272910</td>\n",
       "      <td>9954.009766</td>\n",
       "      <td>1.456395e+08</td>\n",
       "      <td>2.307592e+06</td>\n",
       "    </tr>\n",
       "    <tr>\n",
       "      <th>max</th>\n",
       "      <td>2017.0</td>\n",
       "      <td>999999.000000</td>\n",
       "      <td>842.00000</td>\n",
       "      <td>2.405277e+12</td>\n",
       "      <td>3.937064e+11</td>\n",
       "      <td>515.000000</td>\n",
       "      <td>15134.164110</td>\n",
       "      <td>1.951935e+13</td>\n",
       "      <td>1.871496e+13</td>\n",
       "      <td>1.386395e+09</td>\n",
       "      <td>33226.298150</td>\n",
       "      <td>87.166330</td>\n",
       "      <td>18375.181640</td>\n",
       "      <td>1.130730e+11</td>\n",
       "      <td>6.369533e+10</td>\n",
       "    </tr>\n",
       "  </tbody>\n",
       "</table>\n",
       "</div>"
      ],
      "text/plain": [
       "       UNC_YEAR           HSCD    COUNTRYCD  TRADE_COUNTRYCD    TRADE_HSCD  \\\n",
       "count   21189.0   21189.000000  21189.00000     2.118900e+04  2.118900e+04   \n",
       "mean     2017.0  736897.468120    450.41111     3.424906e+11  1.516928e+10   \n",
       "std         0.0  201427.725252    254.19937     4.639194e+11  3.915677e+10   \n",
       "min      2017.0  190219.000000     12.00000     4.337305e+09  2.436821e+08   \n",
       "25%      2017.0  640419.000000    203.00000     6.633875e+10  2.469927e+09   \n",
       "50%      2017.0  843131.000000    458.00000     2.132153e+11  4.849947e+09   \n",
       "75%      2017.0  853329.000000    699.00000     4.324051e+11  1.188559e+10   \n",
       "max      2017.0  999999.000000    842.00000     2.405277e+12  3.937064e+11   \n",
       "\n",
       "         TARIFF_AVG        SNDIST  NY_GDP_MKTP_CD  NY_GDP_MKTP_CD_1Y  \\\n",
       "count  21060.000000  21167.000000    2.118900e+04       2.118900e+04   \n",
       "mean       3.271472   6368.110474    1.644687e+12       1.547985e+12   \n",
       "std        8.699236   2518.061371    3.433912e+12       3.257228e+12   \n",
       "min        0.000000   1172.047241    1.142576e+10       1.118673e+10   \n",
       "25%        0.000000   4376.303156    2.357337e+11       2.504401e+11   \n",
       "50%        0.000000   5624.930017    4.453453e+11       4.179836e+11   \n",
       "75%        5.000000   7877.524947    1.574199e+12       1.276787e+12   \n",
       "max      515.000000  15134.164110    1.951935e+13       1.871496e+13   \n",
       "\n",
       "        SP_POP_TOTL   PA_NUS_FCRF  IC_BUS_EASE_DFRN_DB        KMDIST  \\\n",
       "count  2.118900e+04  17701.000000         21189.000000  21189.000000   \n",
       "mean   1.225087e+08   1993.842026            70.723435   7951.616743   \n",
       "std    2.844419e+08   6568.366701            10.562132   4054.057558   \n",
       "min    3.113779e+06      0.303350            42.671390    955.651062   \n",
       "25%    1.137516e+07      3.191389            64.528933   4692.671875   \n",
       "50%    3.797483e+07      7.793250            73.394083   8262.062500   \n",
       "75%    9.459664e+07    110.973017            78.272910   9954.009766   \n",
       "max    1.386395e+09  33226.298150            87.166330  18375.181640   \n",
       "\n",
       "       TRADE_HSCD_COUNTRYCD  KR_TRADE_HSCD_COUNTRYCD  \n",
       "count          2.116800e+04             2.118900e+04  \n",
       "mean           3.083345e+08             1.793963e+07  \n",
       "std            2.130044e+09             4.810033e+08  \n",
       "min            7.630000e+02             0.000000e+00  \n",
       "25%            1.032367e+07             4.917000e+04  \n",
       "50%            4.082173e+07             3.496490e+05  \n",
       "75%            1.456395e+08             2.307592e+06  \n",
       "max            1.130730e+11             6.369533e+10  "
      ]
     },
     "execution_count": 20,
     "metadata": {},
     "output_type": "execute_result"
    }
   ],
   "source": [
    "train.describe()"
   ]
  },
  {
   "cell_type": "code",
   "execution_count": 21,
   "id": "56a85cc5",
   "metadata": {
    "ExecuteTime": {
     "end_time": "2021-06-19T06:24:01.231814Z",
     "start_time": "2021-06-19T06:24:01.199687Z"
    }
   },
   "outputs": [
    {
     "name": "stdout",
     "output_type": "stream",
     "text": [
      "<class 'pandas.core.frame.DataFrame'>\n",
      "RangeIndex: 21189 entries, 0 to 21188\n",
      "Data columns (total 16 columns):\n",
      " #   Column                   Non-Null Count  Dtype  \n",
      "---  ------                   --------------  -----  \n",
      " 0   UNC_YEAR                 21189 non-null  int64  \n",
      " 1   HSCD                     21189 non-null  int64  \n",
      " 2   COUNTRYCD                21189 non-null  int64  \n",
      " 3   COUNTRYNM                21189 non-null  object \n",
      " 4   TRADE_COUNTRYCD          21189 non-null  int64  \n",
      " 5   TRADE_HSCD               21189 non-null  int64  \n",
      " 6   TARIFF_AVG               21060 non-null  float64\n",
      " 7   SNDIST                   21167 non-null  float64\n",
      " 8   NY_GDP_MKTP_CD           21189 non-null  int64  \n",
      " 9   NY_GDP_MKTP_CD_1Y        21189 non-null  int64  \n",
      " 10  SP_POP_TOTL              21189 non-null  int64  \n",
      " 11  PA_NUS_FCRF              17701 non-null  float64\n",
      " 12  IC_BUS_EASE_DFRN_DB      21189 non-null  float64\n",
      " 13  KMDIST                   21189 non-null  float64\n",
      " 14  TRADE_HSCD_COUNTRYCD     21168 non-null  float64\n",
      " 15  KR_TRADE_HSCD_COUNTRYCD  21189 non-null  int64  \n",
      "dtypes: float64(6), int64(9), object(1)\n",
      "memory usage: 2.6+ MB\n"
     ]
    }
   ],
   "source": [
    "train.info()"
   ]
  },
  {
   "cell_type": "code",
   "execution_count": null,
   "id": "5c71bea2",
   "metadata": {},
   "outputs": [],
   "source": []
  },
  {
   "cell_type": "markdown",
   "id": "8d775bfb",
   "metadata": {},
   "source": [
    "## Feature Engineering"
   ]
  },
  {
   "cell_type": "code",
   "execution_count": 161,
   "id": "fe69a47f",
   "metadata": {
    "ExecuteTime": {
     "end_time": "2021-06-19T07:48:25.947641Z",
     "start_time": "2021-06-19T07:48:25.599925Z"
    }
   },
   "outputs": [
    {
     "data": {
      "text/html": [
       "<div>\n",
       "<style scoped>\n",
       "    .dataframe tbody tr th:only-of-type {\n",
       "        vertical-align: middle;\n",
       "    }\n",
       "\n",
       "    .dataframe tbody tr th {\n",
       "        vertical-align: top;\n",
       "    }\n",
       "\n",
       "    .dataframe thead th {\n",
       "        text-align: right;\n",
       "    }\n",
       "</style>\n",
       "<table border=\"1\" class=\"dataframe\">\n",
       "  <thead>\n",
       "    <tr style=\"text-align: right;\">\n",
       "      <th></th>\n",
       "      <th>UNC_YEAR</th>\n",
       "      <th>HSCD</th>\n",
       "      <th>COUNTRYCD</th>\n",
       "      <th>COUNTRYNM</th>\n",
       "      <th>TRADE_COUNTRYCD</th>\n",
       "      <th>TRADE_HSCD</th>\n",
       "      <th>TARIFF_AVG</th>\n",
       "      <th>SNDIST</th>\n",
       "      <th>NY_GDP_MKTP_CD</th>\n",
       "      <th>NY_GDP_MKTP_CD_1Y</th>\n",
       "      <th>SP_POP_TOTL</th>\n",
       "      <th>PA_NUS_FCRF</th>\n",
       "      <th>IC_BUS_EASE_DFRN_DB</th>\n",
       "      <th>KMDIST</th>\n",
       "      <th>TRADE_HSCD_COUNTRYCD</th>\n",
       "      <th>KR_TRADE_HSCD_COUNTRYCD</th>\n",
       "    </tr>\n",
       "  </thead>\n",
       "  <tbody>\n",
       "  </tbody>\n",
       "</table>\n",
       "</div>"
      ],
      "text/plain": [
       "Empty DataFrame\n",
       "Columns: [UNC_YEAR, HSCD, COUNTRYCD, COUNTRYNM, TRADE_COUNTRYCD, TRADE_HSCD, TARIFF_AVG, SNDIST, NY_GDP_MKTP_CD, NY_GDP_MKTP_CD_1Y, SP_POP_TOTL, PA_NUS_FCRF, IC_BUS_EASE_DFRN_DB, KMDIST, TRADE_HSCD_COUNTRYCD, KR_TRADE_HSCD_COUNTRYCD]\n",
       "Index: []"
      ]
     },
     "execution_count": 161,
     "metadata": {},
     "output_type": "execute_result"
    }
   ],
   "source": [
    "train[train.apply(lambda x: \"?\" in list(x), axis=1)]"
   ]
  },
  {
   "cell_type": "code",
   "execution_count": 175,
   "id": "9f8f9b2b",
   "metadata": {
    "ExecuteTime": {
     "end_time": "2021-06-19T07:57:43.790744Z",
     "start_time": "2021-06-19T07:57:43.677508Z"
    }
   },
   "outputs": [],
   "source": [
    "# 특정값\n",
    "train_0 = train.fillna(0)\n",
    "\n",
    "# 결측값을 앞 방향\n",
    "train_ff = train.fillna(method='ffill')\n",
    "\n",
    "# 결측값을 뒷 방향\n",
    "train_bb = train.fillna(method='bfill')\n",
    "\n",
    "# 평균으로 대체\n",
    "train_mean = train.fillna(train.mean())"
   ]
  },
  {
   "cell_type": "code",
   "execution_count": 176,
   "id": "723c6a91",
   "metadata": {
    "ExecuteTime": {
     "end_time": "2021-06-19T07:57:45.150655Z",
     "start_time": "2021-06-19T07:57:45.141365Z"
    }
   },
   "outputs": [],
   "source": [
    "## Scaling\n",
    "\n",
    "from sklearn.preprocessing import MinMaxScaler, StandardScaler\n",
    "\n",
    "mm_scaler = MinMaxScaler()\n",
    "st_scaler = StandardScaler()"
   ]
  },
  {
   "cell_type": "code",
   "execution_count": null,
   "id": "f5d0e573",
   "metadata": {},
   "outputs": [],
   "source": []
  },
  {
   "cell_type": "code",
   "execution_count": null,
   "id": "57c9bbea",
   "metadata": {},
   "outputs": [],
   "source": []
  },
  {
   "cell_type": "markdown",
   "id": "a39abe7e",
   "metadata": {},
   "source": [
    "### 평균 0 "
   ]
  },
  {
   "cell_type": "code",
   "execution_count": 180,
   "id": "ec6a2e7e",
   "metadata": {
    "ExecuteTime": {
     "end_time": "2021-06-19T07:58:35.979467Z",
     "start_time": "2021-06-19T07:58:35.971200Z"
    }
   },
   "outputs": [],
   "source": [
    "## dataset prepare\n",
    "train_0_2 = train_0.drop(columns=['KR_TRADE_HSCD_COUNTRYCD'])\n",
    "label_0 = train_0['KR_TRADE_HSCD_COUNTRYCD']"
   ]
  },
  {
   "cell_type": "code",
   "execution_count": 181,
   "id": "c28b2d2c",
   "metadata": {
    "ExecuteTime": {
     "end_time": "2021-06-19T07:58:38.141998Z",
     "start_time": "2021-06-19T07:58:38.123503Z"
    }
   },
   "outputs": [],
   "source": [
    "## splitting\n",
    "\n",
    "from sklearn.model_selection import train_test_split\n",
    "\n",
    "X_train, X_valid, y_train, y_valid = train_test_split(\n",
    "    train_0_2,\n",
    "    label_0,\n",
    "    test_size=0.3,\n",
    "    random_state=2021,\n",
    "    shuffle=True,\n",
    "    #stratify=label\n",
    ")"
   ]
  },
  {
   "cell_type": "code",
   "execution_count": 182,
   "id": "d42d992b",
   "metadata": {
    "ExecuteTime": {
     "end_time": "2021-06-19T07:58:44.402114Z",
     "start_time": "2021-06-19T07:58:44.391867Z"
    }
   },
   "outputs": [],
   "source": [
    "# 인덱스 초기화\n",
    "\n",
    "X_train = X_train.reset_index(drop=True)\n",
    "X_valid = X_valid.reset_index(drop=True)"
   ]
  },
  {
   "cell_type": "code",
   "execution_count": 183,
   "id": "1f11ae86",
   "metadata": {
    "ExecuteTime": {
     "end_time": "2021-06-19T07:58:45.139393Z",
     "start_time": "2021-06-19T07:58:45.131122Z"
    }
   },
   "outputs": [],
   "source": [
    "# 변수 특징 확인 Good technique!!!\n",
    "cat_columns = [c for c, t in zip(X_train.dtypes.index, X_train.dtypes) if t == 'O'] \n",
    "num_columns = [c for c in X_train.dtypes.index if c not in cat_columns]"
   ]
  },
  {
   "cell_type": "code",
   "execution_count": 184,
   "id": "d93b693d",
   "metadata": {
    "ExecuteTime": {
     "end_time": "2021-06-19T07:58:45.379297Z",
     "start_time": "2021-06-19T07:58:45.376044Z"
    }
   },
   "outputs": [
    {
     "name": "stdout",
     "output_type": "stream",
     "text": [
      "범주형 변수: \n",
      "['COUNTRYNM']\n",
      "\n",
      " 수치형 변수: \n",
      "['UNC_YEAR', 'HSCD', 'COUNTRYCD', 'TRADE_COUNTRYCD', 'TRADE_HSCD', 'TARIFF_AVG', 'SNDIST', 'NY_GDP_MKTP_CD', 'NY_GDP_MKTP_CD_1Y', 'SP_POP_TOTL', 'PA_NUS_FCRF', 'IC_BUS_EASE_DFRN_DB', 'KMDIST', 'TRADE_HSCD_COUNTRYCD']\n",
      "\n"
     ]
    }
   ],
   "source": [
    "print(f'범주형 변수: \\n{cat_columns}\\n\\n 수치형 변수: \\n{num_columns}\\n')"
   ]
  },
  {
   "cell_type": "code",
   "execution_count": 185,
   "id": "ad1f7a9f",
   "metadata": {
    "ExecuteTime": {
     "end_time": "2021-06-19T07:58:45.964358Z",
     "start_time": "2021-06-19T07:58:45.859169Z"
    }
   },
   "outputs": [],
   "source": [
    "from sklearn.preprocessing import StandardScaler\n",
    "\n",
    "scaler = StandardScaler()\n",
    "X_train[num_columns] = scaler.fit_transform(X_train[num_columns])\n",
    "\n",
    "X_valid[num_columns] = scaler.transform(X_valid[num_columns])\n",
    "# tmp_test[num_columns]  = scaler.transform(tmp_test[num_columns])"
   ]
  },
  {
   "cell_type": "code",
   "execution_count": null,
   "id": "1a9b9906",
   "metadata": {},
   "outputs": [],
   "source": []
  },
  {
   "cell_type": "code",
   "execution_count": 186,
   "id": "4ed0a389",
   "metadata": {
    "ExecuteTime": {
     "end_time": "2021-06-19T07:58:47.586581Z",
     "start_time": "2021-06-19T07:58:47.497410Z"
    }
   },
   "outputs": [
    {
     "data": {
      "text/html": [
       "<div>\n",
       "<style scoped>\n",
       "    .dataframe tbody tr th:only-of-type {\n",
       "        vertical-align: middle;\n",
       "    }\n",
       "\n",
       "    .dataframe tbody tr th {\n",
       "        vertical-align: top;\n",
       "    }\n",
       "\n",
       "    .dataframe thead th {\n",
       "        text-align: right;\n",
       "    }\n",
       "</style>\n",
       "<table border=\"1\" class=\"dataframe\">\n",
       "  <thead>\n",
       "    <tr style=\"text-align: right;\">\n",
       "      <th></th>\n",
       "      <th>UNC_YEAR</th>\n",
       "      <th>HSCD</th>\n",
       "      <th>COUNTRYCD</th>\n",
       "      <th>TRADE_COUNTRYCD</th>\n",
       "      <th>TRADE_HSCD</th>\n",
       "      <th>TARIFF_AVG</th>\n",
       "      <th>SNDIST</th>\n",
       "      <th>NY_GDP_MKTP_CD</th>\n",
       "      <th>NY_GDP_MKTP_CD_1Y</th>\n",
       "      <th>SP_POP_TOTL</th>\n",
       "      <th>PA_NUS_FCRF</th>\n",
       "      <th>IC_BUS_EASE_DFRN_DB</th>\n",
       "      <th>KMDIST</th>\n",
       "      <th>TRADE_HSCD_COUNTRYCD</th>\n",
       "    </tr>\n",
       "  </thead>\n",
       "  <tbody>\n",
       "    <tr>\n",
       "      <th>count</th>\n",
       "      <td>14832.0</td>\n",
       "      <td>1.483200e+04</td>\n",
       "      <td>1.483200e+04</td>\n",
       "      <td>1.483200e+04</td>\n",
       "      <td>1.483200e+04</td>\n",
       "      <td>1.483200e+04</td>\n",
       "      <td>1.483200e+04</td>\n",
       "      <td>1.483200e+04</td>\n",
       "      <td>1.483200e+04</td>\n",
       "      <td>1.483200e+04</td>\n",
       "      <td>1.483200e+04</td>\n",
       "      <td>1.483200e+04</td>\n",
       "      <td>1.483200e+04</td>\n",
       "      <td>1.483200e+04</td>\n",
       "    </tr>\n",
       "    <tr>\n",
       "      <th>mean</th>\n",
       "      <td>0.0</td>\n",
       "      <td>4.982231e-17</td>\n",
       "      <td>6.467319e-17</td>\n",
       "      <td>-4.958278e-17</td>\n",
       "      <td>2.395303e-18</td>\n",
       "      <td>-1.916243e-17</td>\n",
       "      <td>-7.952407e-17</td>\n",
       "      <td>2.251585e-17</td>\n",
       "      <td>3.449237e-17</td>\n",
       "      <td>-1.053933e-17</td>\n",
       "      <td>1.916243e-18</td>\n",
       "      <td>-1.141841e-15</td>\n",
       "      <td>1.852767e-16</td>\n",
       "      <td>-3.832485e-18</td>\n",
       "    </tr>\n",
       "    <tr>\n",
       "      <th>std</th>\n",
       "      <td>0.0</td>\n",
       "      <td>1.000034e+00</td>\n",
       "      <td>1.000034e+00</td>\n",
       "      <td>1.000034e+00</td>\n",
       "      <td>1.000034e+00</td>\n",
       "      <td>1.000034e+00</td>\n",
       "      <td>1.000034e+00</td>\n",
       "      <td>1.000034e+00</td>\n",
       "      <td>1.000034e+00</td>\n",
       "      <td>1.000034e+00</td>\n",
       "      <td>1.000034e+00</td>\n",
       "      <td>1.000034e+00</td>\n",
       "      <td>1.000034e+00</td>\n",
       "      <td>1.000034e+00</td>\n",
       "    </tr>\n",
       "    <tr>\n",
       "      <th>min</th>\n",
       "      <td>0.0</td>\n",
       "      <td>-2.706398e+00</td>\n",
       "      <td>-1.725224e+00</td>\n",
       "      <td>-7.285915e-01</td>\n",
       "      <td>-3.799686e-01</td>\n",
       "      <td>-3.564001e-01</td>\n",
       "      <td>-2.524921e+00</td>\n",
       "      <td>-4.772800e-01</td>\n",
       "      <td>-4.735058e-01</td>\n",
       "      <td>-4.205185e-01</td>\n",
       "      <td>-2.773003e-01</td>\n",
       "      <td>-2.653835e+00</td>\n",
       "      <td>-1.721127e+00</td>\n",
       "      <td>-1.435761e-01</td>\n",
       "    </tr>\n",
       "    <tr>\n",
       "      <th>25%</th>\n",
       "      <td>0.0</td>\n",
       "      <td>-4.768244e-01</td>\n",
       "      <td>-8.310869e-01</td>\n",
       "      <td>-5.945600e-01</td>\n",
       "      <td>-3.234694e-01</td>\n",
       "      <td>-3.564001e-01</td>\n",
       "      <td>-7.840818e-01</td>\n",
       "      <td>-4.152781e-01</td>\n",
       "      <td>-4.137873e-01</td>\n",
       "      <td>-3.912727e-01</td>\n",
       "      <td>-2.771371e-01</td>\n",
       "      <td>-8.243749e-01</td>\n",
       "      <td>-8.027991e-01</td>\n",
       "      <td>-1.387743e-01</td>\n",
       "    </tr>\n",
       "    <tr>\n",
       "      <th>50%</th>\n",
       "      <td>0.0</td>\n",
       "      <td>5.270879e-01</td>\n",
       "      <td>3.153879e-02</td>\n",
       "      <td>-2.770502e-01</td>\n",
       "      <td>-2.623012e-01</td>\n",
       "      <td>-3.564001e-01</td>\n",
       "      <td>-2.955801e-01</td>\n",
       "      <td>-3.505868e-01</td>\n",
       "      <td>-3.483403e-01</td>\n",
       "      <td>-2.971082e-01</td>\n",
       "      <td>-2.765983e-01</td>\n",
       "      <td>2.606673e-01</td>\n",
       "      <td>7.433595e-02</td>\n",
       "      <td>-1.244914e-01</td>\n",
       "    </tr>\n",
       "    <tr>\n",
       "      <th>75%</th>\n",
       "      <td>0.0</td>\n",
       "      <td>5.776470e-01</td>\n",
       "      <td>9.808209e-01</td>\n",
       "      <td>1.967828e-01</td>\n",
       "      <td>-8.451193e-02</td>\n",
       "      <td>1.777852e-01</td>\n",
       "      <td>5.999946e-01</td>\n",
       "      <td>-2.099093e-02</td>\n",
       "      <td>-8.409881e-02</td>\n",
       "      <td>-9.666334e-02</td>\n",
       "      <td>-2.677769e-01</td>\n",
       "      <td>7.234962e-01</td>\n",
       "      <td>4.901117e-01</td>\n",
       "      <td>-7.582339e-02</td>\n",
       "    </tr>\n",
       "    <tr>\n",
       "      <th>max</th>\n",
       "      <td>0.0</td>\n",
       "      <td>1.303962e+00</td>\n",
       "      <td>1.544088e+00</td>\n",
       "      <td>4.461632e+00</td>\n",
       "      <td>9.605612e+00</td>\n",
       "      <td>5.466468e+01</td>\n",
       "      <td>3.357806e+00</td>\n",
       "      <td>5.218525e+00</td>\n",
       "      <td>5.281377e+00</td>\n",
       "      <td>4.476386e+00</td>\n",
       "      <td>5.146289e+00</td>\n",
       "      <td>1.567169e+00</td>\n",
       "      <td>2.559514e+00</td>\n",
       "      <td>5.293411e+01</td>\n",
       "    </tr>\n",
       "  </tbody>\n",
       "</table>\n",
       "</div>"
      ],
      "text/plain": [
       "       UNC_YEAR          HSCD     COUNTRYCD  TRADE_COUNTRYCD    TRADE_HSCD  \\\n",
       "count   14832.0  1.483200e+04  1.483200e+04     1.483200e+04  1.483200e+04   \n",
       "mean        0.0  4.982231e-17  6.467319e-17    -4.958278e-17  2.395303e-18   \n",
       "std         0.0  1.000034e+00  1.000034e+00     1.000034e+00  1.000034e+00   \n",
       "min         0.0 -2.706398e+00 -1.725224e+00    -7.285915e-01 -3.799686e-01   \n",
       "25%         0.0 -4.768244e-01 -8.310869e-01    -5.945600e-01 -3.234694e-01   \n",
       "50%         0.0  5.270879e-01  3.153879e-02    -2.770502e-01 -2.623012e-01   \n",
       "75%         0.0  5.776470e-01  9.808209e-01     1.967828e-01 -8.451193e-02   \n",
       "max         0.0  1.303962e+00  1.544088e+00     4.461632e+00  9.605612e+00   \n",
       "\n",
       "         TARIFF_AVG        SNDIST  NY_GDP_MKTP_CD  NY_GDP_MKTP_CD_1Y  \\\n",
       "count  1.483200e+04  1.483200e+04    1.483200e+04       1.483200e+04   \n",
       "mean  -1.916243e-17 -7.952407e-17    2.251585e-17       3.449237e-17   \n",
       "std    1.000034e+00  1.000034e+00    1.000034e+00       1.000034e+00   \n",
       "min   -3.564001e-01 -2.524921e+00   -4.772800e-01      -4.735058e-01   \n",
       "25%   -3.564001e-01 -7.840818e-01   -4.152781e-01      -4.137873e-01   \n",
       "50%   -3.564001e-01 -2.955801e-01   -3.505868e-01      -3.483403e-01   \n",
       "75%    1.777852e-01  5.999946e-01   -2.099093e-02      -8.409881e-02   \n",
       "max    5.466468e+01  3.357806e+00    5.218525e+00       5.281377e+00   \n",
       "\n",
       "        SP_POP_TOTL   PA_NUS_FCRF  IC_BUS_EASE_DFRN_DB        KMDIST  \\\n",
       "count  1.483200e+04  1.483200e+04         1.483200e+04  1.483200e+04   \n",
       "mean  -1.053933e-17  1.916243e-18        -1.141841e-15  1.852767e-16   \n",
       "std    1.000034e+00  1.000034e+00         1.000034e+00  1.000034e+00   \n",
       "min   -4.205185e-01 -2.773003e-01        -2.653835e+00 -1.721127e+00   \n",
       "25%   -3.912727e-01 -2.771371e-01        -8.243749e-01 -8.027991e-01   \n",
       "50%   -2.971082e-01 -2.765983e-01         2.606673e-01  7.433595e-02   \n",
       "75%   -9.666334e-02 -2.677769e-01         7.234962e-01  4.901117e-01   \n",
       "max    4.476386e+00  5.146289e+00         1.567169e+00  2.559514e+00   \n",
       "\n",
       "       TRADE_HSCD_COUNTRYCD  \n",
       "count          1.483200e+04  \n",
       "mean          -3.832485e-18  \n",
       "std            1.000034e+00  \n",
       "min           -1.435761e-01  \n",
       "25%           -1.387743e-01  \n",
       "50%           -1.244914e-01  \n",
       "75%           -7.582339e-02  \n",
       "max            5.293411e+01  "
      ]
     },
     "execution_count": 186,
     "metadata": {},
     "output_type": "execute_result"
    }
   ],
   "source": [
    "X_train.describe()"
   ]
  },
  {
   "cell_type": "code",
   "execution_count": null,
   "id": "bc9231f3",
   "metadata": {},
   "outputs": [],
   "source": []
  },
  {
   "cell_type": "code",
   "execution_count": 187,
   "id": "cade9f7c",
   "metadata": {
    "ExecuteTime": {
     "end_time": "2021-06-19T07:58:51.443179Z",
     "start_time": "2021-06-19T07:58:51.420947Z"
    }
   },
   "outputs": [
    {
     "data": {
      "text/plain": [
       "OneHotEncoder(sparse=False)"
      ]
     },
     "execution_count": 187,
     "metadata": {},
     "output_type": "execute_result"
    }
   ],
   "source": [
    "from sklearn.preprocessing import OneHotEncoder\n",
    "\n",
    "tmp_all = pd.concat([X_train, X_valid])\n",
    "\n",
    "ohe = OneHotEncoder(sparse=False)\n",
    "ohe.fit(tmp_all[cat_columns])"
   ]
  },
  {
   "cell_type": "code",
   "execution_count": 188,
   "id": "b3f349cd",
   "metadata": {
    "ExecuteTime": {
     "end_time": "2021-06-19T07:58:52.977107Z",
     "start_time": "2021-06-19T07:58:52.966346Z"
    }
   },
   "outputs": [
    {
     "data": {
      "text/plain": [
       "[array(['Algeria', 'Australia', 'Austria', 'Belgium', 'Brazil', 'Canada',\n",
       "        'Chile', 'China', 'China, Hong Kong SAR', 'Czechia', 'Egypt',\n",
       "        'France', 'Germany', 'Guatemala', 'India', 'Indonesia', 'Iran',\n",
       "        'Italy', 'Japan', 'Kazakhstan', 'Kuwait', 'Malaysia', 'Mexico',\n",
       "        'Mongolia', 'Myanmar', 'Netherlands', 'New Zealand', 'Norway',\n",
       "        'Peru', 'Philippines', 'Poland', 'Russian Federation',\n",
       "        'Saudi Arabia', 'Singapore', 'South Africa', 'Spain', 'Sri Lanka',\n",
       "        'Switzerland', 'Turkey', 'USA', 'United Arab Emirates',\n",
       "        'United Kingdom', 'Viet Nam'], dtype=object)]"
      ]
     },
     "execution_count": 188,
     "metadata": {},
     "output_type": "execute_result"
    }
   ],
   "source": [
    "ohe.categories_"
   ]
  },
  {
   "cell_type": "code",
   "execution_count": null,
   "id": "a335f410",
   "metadata": {},
   "outputs": [],
   "source": []
  },
  {
   "cell_type": "code",
   "execution_count": 189,
   "id": "46ab2ce0",
   "metadata": {
    "ExecuteTime": {
     "end_time": "2021-06-19T07:58:53.818881Z",
     "start_time": "2021-06-19T07:58:53.810288Z"
    }
   },
   "outputs": [],
   "source": [
    "ohe_columns = list()\n",
    "for lst in ohe.categories_:\n",
    "    ohe_columns += lst.tolist()"
   ]
  },
  {
   "cell_type": "code",
   "execution_count": null,
   "id": "1aad5735",
   "metadata": {},
   "outputs": [],
   "source": []
  },
  {
   "cell_type": "code",
   "execution_count": 190,
   "id": "61279af6",
   "metadata": {
    "ExecuteTime": {
     "end_time": "2021-06-19T07:58:54.341714Z",
     "start_time": "2021-06-19T07:58:54.319189Z"
    }
   },
   "outputs": [],
   "source": [
    "new_train_cat = pd.DataFrame(ohe.transform(X_train[cat_columns]), columns=ohe_columns)\n",
    "new_valid_cat = pd.DataFrame(ohe.transform(X_valid[cat_columns]), columns=ohe_columns)"
   ]
  },
  {
   "cell_type": "code",
   "execution_count": 191,
   "id": "dcc2c5c6",
   "metadata": {
    "ExecuteTime": {
     "end_time": "2021-06-19T07:58:54.810193Z",
     "start_time": "2021-06-19T07:58:54.771654Z"
    }
   },
   "outputs": [
    {
     "data": {
      "text/html": [
       "<div>\n",
       "<style scoped>\n",
       "    .dataframe tbody tr th:only-of-type {\n",
       "        vertical-align: middle;\n",
       "    }\n",
       "\n",
       "    .dataframe tbody tr th {\n",
       "        vertical-align: top;\n",
       "    }\n",
       "\n",
       "    .dataframe thead th {\n",
       "        text-align: right;\n",
       "    }\n",
       "</style>\n",
       "<table border=\"1\" class=\"dataframe\">\n",
       "  <thead>\n",
       "    <tr style=\"text-align: right;\">\n",
       "      <th></th>\n",
       "      <th>Algeria</th>\n",
       "      <th>Australia</th>\n",
       "      <th>Austria</th>\n",
       "      <th>Belgium</th>\n",
       "      <th>Brazil</th>\n",
       "      <th>Canada</th>\n",
       "      <th>Chile</th>\n",
       "      <th>China</th>\n",
       "      <th>China, Hong Kong SAR</th>\n",
       "      <th>Czechia</th>\n",
       "      <th>...</th>\n",
       "      <th>Singapore</th>\n",
       "      <th>South Africa</th>\n",
       "      <th>Spain</th>\n",
       "      <th>Sri Lanka</th>\n",
       "      <th>Switzerland</th>\n",
       "      <th>Turkey</th>\n",
       "      <th>USA</th>\n",
       "      <th>United Arab Emirates</th>\n",
       "      <th>United Kingdom</th>\n",
       "      <th>Viet Nam</th>\n",
       "    </tr>\n",
       "  </thead>\n",
       "  <tbody>\n",
       "    <tr>\n",
       "      <th>0</th>\n",
       "      <td>0.0</td>\n",
       "      <td>0.0</td>\n",
       "      <td>0.0</td>\n",
       "      <td>0.0</td>\n",
       "      <td>0.0</td>\n",
       "      <td>0.0</td>\n",
       "      <td>0.0</td>\n",
       "      <td>0.0</td>\n",
       "      <td>0.0</td>\n",
       "      <td>0.0</td>\n",
       "      <td>...</td>\n",
       "      <td>0.0</td>\n",
       "      <td>0.0</td>\n",
       "      <td>0.0</td>\n",
       "      <td>0.0</td>\n",
       "      <td>0.0</td>\n",
       "      <td>0.0</td>\n",
       "      <td>0.0</td>\n",
       "      <td>0.0</td>\n",
       "      <td>0.0</td>\n",
       "      <td>0.0</td>\n",
       "    </tr>\n",
       "    <tr>\n",
       "      <th>1</th>\n",
       "      <td>0.0</td>\n",
       "      <td>0.0</td>\n",
       "      <td>0.0</td>\n",
       "      <td>0.0</td>\n",
       "      <td>0.0</td>\n",
       "      <td>0.0</td>\n",
       "      <td>0.0</td>\n",
       "      <td>0.0</td>\n",
       "      <td>0.0</td>\n",
       "      <td>0.0</td>\n",
       "      <td>...</td>\n",
       "      <td>0.0</td>\n",
       "      <td>0.0</td>\n",
       "      <td>0.0</td>\n",
       "      <td>0.0</td>\n",
       "      <td>0.0</td>\n",
       "      <td>0.0</td>\n",
       "      <td>0.0</td>\n",
       "      <td>0.0</td>\n",
       "      <td>0.0</td>\n",
       "      <td>0.0</td>\n",
       "    </tr>\n",
       "    <tr>\n",
       "      <th>2</th>\n",
       "      <td>0.0</td>\n",
       "      <td>0.0</td>\n",
       "      <td>0.0</td>\n",
       "      <td>0.0</td>\n",
       "      <td>0.0</td>\n",
       "      <td>0.0</td>\n",
       "      <td>1.0</td>\n",
       "      <td>0.0</td>\n",
       "      <td>0.0</td>\n",
       "      <td>0.0</td>\n",
       "      <td>...</td>\n",
       "      <td>0.0</td>\n",
       "      <td>0.0</td>\n",
       "      <td>0.0</td>\n",
       "      <td>0.0</td>\n",
       "      <td>0.0</td>\n",
       "      <td>0.0</td>\n",
       "      <td>0.0</td>\n",
       "      <td>0.0</td>\n",
       "      <td>0.0</td>\n",
       "      <td>0.0</td>\n",
       "    </tr>\n",
       "    <tr>\n",
       "      <th>3</th>\n",
       "      <td>0.0</td>\n",
       "      <td>0.0</td>\n",
       "      <td>0.0</td>\n",
       "      <td>0.0</td>\n",
       "      <td>0.0</td>\n",
       "      <td>0.0</td>\n",
       "      <td>0.0</td>\n",
       "      <td>0.0</td>\n",
       "      <td>0.0</td>\n",
       "      <td>0.0</td>\n",
       "      <td>...</td>\n",
       "      <td>0.0</td>\n",
       "      <td>0.0</td>\n",
       "      <td>0.0</td>\n",
       "      <td>0.0</td>\n",
       "      <td>0.0</td>\n",
       "      <td>0.0</td>\n",
       "      <td>0.0</td>\n",
       "      <td>0.0</td>\n",
       "      <td>0.0</td>\n",
       "      <td>0.0</td>\n",
       "    </tr>\n",
       "    <tr>\n",
       "      <th>4</th>\n",
       "      <td>0.0</td>\n",
       "      <td>0.0</td>\n",
       "      <td>0.0</td>\n",
       "      <td>0.0</td>\n",
       "      <td>0.0</td>\n",
       "      <td>0.0</td>\n",
       "      <td>1.0</td>\n",
       "      <td>0.0</td>\n",
       "      <td>0.0</td>\n",
       "      <td>0.0</td>\n",
       "      <td>...</td>\n",
       "      <td>0.0</td>\n",
       "      <td>0.0</td>\n",
       "      <td>0.0</td>\n",
       "      <td>0.0</td>\n",
       "      <td>0.0</td>\n",
       "      <td>0.0</td>\n",
       "      <td>0.0</td>\n",
       "      <td>0.0</td>\n",
       "      <td>0.0</td>\n",
       "      <td>0.0</td>\n",
       "    </tr>\n",
       "  </tbody>\n",
       "</table>\n",
       "<p>5 rows × 43 columns</p>\n",
       "</div>"
      ],
      "text/plain": [
       "   Algeria  Australia  Austria  Belgium  Brazil  Canada  Chile  China  \\\n",
       "0      0.0        0.0      0.0      0.0     0.0     0.0    0.0    0.0   \n",
       "1      0.0        0.0      0.0      0.0     0.0     0.0    0.0    0.0   \n",
       "2      0.0        0.0      0.0      0.0     0.0     0.0    1.0    0.0   \n",
       "3      0.0        0.0      0.0      0.0     0.0     0.0    0.0    0.0   \n",
       "4      0.0        0.0      0.0      0.0     0.0     0.0    1.0    0.0   \n",
       "\n",
       "   China, Hong Kong SAR  Czechia  ...  Singapore  South Africa  Spain  \\\n",
       "0                   0.0      0.0  ...        0.0           0.0    0.0   \n",
       "1                   0.0      0.0  ...        0.0           0.0    0.0   \n",
       "2                   0.0      0.0  ...        0.0           0.0    0.0   \n",
       "3                   0.0      0.0  ...        0.0           0.0    0.0   \n",
       "4                   0.0      0.0  ...        0.0           0.0    0.0   \n",
       "\n",
       "   Sri Lanka  Switzerland  Turkey  USA  United Arab Emirates  United Kingdom  \\\n",
       "0        0.0          0.0     0.0  0.0                   0.0             0.0   \n",
       "1        0.0          0.0     0.0  0.0                   0.0             0.0   \n",
       "2        0.0          0.0     0.0  0.0                   0.0             0.0   \n",
       "3        0.0          0.0     0.0  0.0                   0.0             0.0   \n",
       "4        0.0          0.0     0.0  0.0                   0.0             0.0   \n",
       "\n",
       "   Viet Nam  \n",
       "0       0.0  \n",
       "1       0.0  \n",
       "2       0.0  \n",
       "3       0.0  \n",
       "4       0.0  \n",
       "\n",
       "[5 rows x 43 columns]"
      ]
     },
     "execution_count": 191,
     "metadata": {},
     "output_type": "execute_result"
    }
   ],
   "source": [
    "new_train_cat.head()"
   ]
  },
  {
   "cell_type": "code",
   "execution_count": null,
   "id": "c7ca0e46",
   "metadata": {},
   "outputs": [],
   "source": []
  },
  {
   "cell_type": "code",
   "execution_count": 192,
   "id": "73cd43e4",
   "metadata": {
    "ExecuteTime": {
     "end_time": "2021-06-19T07:58:55.466623Z",
     "start_time": "2021-06-19T07:58:55.442892Z"
    }
   },
   "outputs": [],
   "source": [
    "# 그냥 pd.get.dummies 로 했어도 될지 모르는 technique...\n",
    "\n",
    "X_train = pd.concat([X_train, new_train_cat], axis=1)\n",
    "X_valid = pd.concat([X_valid, new_valid_cat], axis=1)"
   ]
  },
  {
   "cell_type": "code",
   "execution_count": null,
   "id": "4f515003",
   "metadata": {},
   "outputs": [],
   "source": []
  },
  {
   "cell_type": "code",
   "execution_count": 193,
   "id": "305124ce",
   "metadata": {
    "ExecuteTime": {
     "end_time": "2021-06-19T07:58:56.022310Z",
     "start_time": "2021-06-19T07:58:55.993553Z"
    }
   },
   "outputs": [],
   "source": [
    "# 기존 범주형 변수 제거\n",
    "\n",
    "X_train = X_train.drop(columns=cat_columns)\n",
    "X_valid = X_valid.drop(columns=cat_columns)"
   ]
  },
  {
   "cell_type": "code",
   "execution_count": null,
   "id": "c9c7949c",
   "metadata": {},
   "outputs": [],
   "source": []
  },
  {
   "cell_type": "code",
   "execution_count": 194,
   "id": "d60db5f6",
   "metadata": {
    "ExecuteTime": {
     "end_time": "2021-06-19T07:58:56.871951Z",
     "start_time": "2021-06-19T07:58:56.858060Z"
    }
   },
   "outputs": [
    {
     "data": {
      "text/plain": [
       "Index(['UNC_YEAR', 'HSCD', 'COUNTRYCD', 'TRADE_COUNTRYCD', 'TRADE_HSCD',\n",
       "       'TARIFF_AVG', 'SNDIST', 'NY_GDP_MKTP_CD', 'NY_GDP_MKTP_CD_1Y',\n",
       "       'SP_POP_TOTL', 'PA_NUS_FCRF', 'IC_BUS_EASE_DFRN_DB', 'KMDIST',\n",
       "       'TRADE_HSCD_COUNTRYCD', 'Algeria', 'Australia', 'Austria', 'Belgium',\n",
       "       'Brazil', 'Canada', 'Chile', 'China', 'China, Hong Kong SAR', 'Czechia',\n",
       "       'Egypt', 'France', 'Germany', 'Guatemala', 'India', 'Indonesia', 'Iran',\n",
       "       'Italy', 'Japan', 'Kazakhstan', 'Kuwait', 'Malaysia', 'Mexico',\n",
       "       'Mongolia', 'Myanmar', 'Netherlands', 'New Zealand', 'Norway', 'Peru',\n",
       "       'Philippines', 'Poland', 'Russian Federation', 'Saudi Arabia',\n",
       "       'Singapore', 'South Africa', 'Spain', 'Sri Lanka', 'Switzerland',\n",
       "       'Turkey', 'USA', 'United Arab Emirates', 'United Kingdom', 'Viet Nam'],\n",
       "      dtype='object')"
      ]
     },
     "execution_count": 194,
     "metadata": {},
     "output_type": "execute_result"
    }
   ],
   "source": [
    "X_train.columns"
   ]
  },
  {
   "cell_type": "code",
   "execution_count": null,
   "id": "e6d3983c",
   "metadata": {},
   "outputs": [],
   "source": []
  },
  {
   "cell_type": "code",
   "execution_count": null,
   "id": "3ea2d1ef",
   "metadata": {},
   "outputs": [],
   "source": []
  },
  {
   "cell_type": "code",
   "execution_count": null,
   "id": "ae7792ef",
   "metadata": {},
   "outputs": [],
   "source": [
    "# dummies = pd.get_dummies(X_train['COUNTRYNM'], dummy_na=True)\n",
    "# X_train = pd.concat([X_train,dummies],axis=1).drop(columns='COUNTRYNM')"
   ]
  },
  {
   "cell_type": "code",
   "execution_count": null,
   "id": "9c584bd6",
   "metadata": {},
   "outputs": [],
   "source": []
  },
  {
   "cell_type": "markdown",
   "id": "af9d2f0f",
   "metadata": {},
   "source": [
    "# Model - baseline"
   ]
  },
  {
   "cell_type": "code",
   "execution_count": 230,
   "id": "d0ace8fc",
   "metadata": {
    "ExecuteTime": {
     "end_time": "2021-06-19T08:33:55.017831Z",
     "start_time": "2021-06-19T08:33:55.004974Z"
    }
   },
   "outputs": [],
   "source": [
    "from sklearn.linear_model import LogisticRegression\n",
    "from sklearn.ensemble import RandomForestRegressor\n",
    "from sklearn.svm import SVR\n",
    "from xgboost import XGBRegressor\n",
    "from lightgbm import LGBMRegressor"
   ]
  },
  {
   "cell_type": "code",
   "execution_count": 203,
   "id": "4b81f7d5",
   "metadata": {
    "ExecuteTime": {
     "end_time": "2021-06-19T08:20:39.376697Z",
     "start_time": "2021-06-19T08:20:39.367393Z"
    }
   },
   "outputs": [],
   "source": [
    "from sklearn.metrics import mean_absolute_error"
   ]
  },
  {
   "cell_type": "markdown",
   "id": "46803413",
   "metadata": {},
   "source": [
    "## Evaluation Usage"
   ]
  },
  {
   "cell_type": "code",
   "execution_count": null,
   "id": "745a21c7",
   "metadata": {},
   "outputs": [],
   "source": [
    "# >>> from sklearn.metrics import median_absolute_error\n",
    "# >>> y_true = [3, -0.5, 2, 7]\n",
    "# >>> y_pred = [2.5, 0.0, 2, 8]\n",
    "# >>> median_absolute_error(y_true, y_pred)"
   ]
  },
  {
   "cell_type": "code",
   "execution_count": null,
   "id": "79bae412",
   "metadata": {},
   "outputs": [],
   "source": []
  },
  {
   "cell_type": "markdown",
   "id": "5fc85b09",
   "metadata": {},
   "source": [
    "### Logistic Regreesion"
   ]
  },
  {
   "cell_type": "markdown",
   "id": "6680f1be",
   "metadata": {},
   "source": [
    "#### Error occur\n",
    "\n",
    "/opt/conda/lib/python3.7/site-packages/sklearn/linear_model/_logistic.py:765: ConvergenceWarning: lbfgs failed to converge (status=1):\n",
    "STOP: TOTAL NO. of ITERATIONS REACHED LIMIT.\n",
    "\n",
    "Increase the number of iterations (max_iter) or scale the data as shown in:\n",
    "    https://scikit-learn.org/stable/modules/preprocessing.html\n",
    "Please also refer to the documentation for alternative solver options:\n",
    "    https://scikit-learn.org/stable/modules/linear_model.html#logistic-regression\n",
    "  extra_warning_msg=_LOGISTIC_SOLVER_CONVERGENCE_MSG)\n",
    "LogisticRegression()"
   ]
  },
  {
   "cell_type": "code",
   "execution_count": 207,
   "id": "9cf4af81",
   "metadata": {
    "ExecuteTime": {
     "end_time": "2021-06-19T08:21:50.852034Z",
     "start_time": "2021-06-19T08:21:50.848389Z"
    }
   },
   "outputs": [
    {
     "name": "stdout",
     "output_type": "stream",
     "text": [
      "Logistic Regression MAE Score: 28357149.84694038\n"
     ]
    }
   ],
   "source": [
    "lr = LogisticRegression()\n",
    "\n",
    "lr.fit(X_train, y_train)\n",
    "\n",
    "y_pred = lr.predict(X_valid)\n",
    "\n",
    "print(f'Logistic Regression MAE Score: {mean_absolute_error(y_valid, y_pred)}')"
   ]
  },
  {
   "cell_type": "code",
   "execution_count": null,
   "id": "bfaaa78e",
   "metadata": {},
   "outputs": [],
   "source": []
  },
  {
   "cell_type": "markdown",
   "id": "2c2eda2f",
   "metadata": {},
   "source": [
    "### SVR"
   ]
  },
  {
   "cell_type": "code",
   "execution_count": 233,
   "id": "7e8647dd",
   "metadata": {
    "ExecuteTime": {
     "end_time": "2021-06-19T08:35:35.456482Z",
     "start_time": "2021-06-19T08:35:02.020750Z"
    }
   },
   "outputs": [
    {
     "name": "stdout",
     "output_type": "stream",
     "text": [
      "SVR MAE score: 24497300.902226258\n"
     ]
    }
   ],
   "source": [
    "svr = SVR()\n",
    "\n",
    "svr.fit(X_train, y_train)\n",
    "\n",
    "y_pred = svr.predict(X_valid)\n",
    "\n",
    "print(f'SVR MAE score: {mean_absolute_error(y_valid, y_pred)}')"
   ]
  },
  {
   "cell_type": "code",
   "execution_count": null,
   "id": "a062e3d2",
   "metadata": {},
   "outputs": [],
   "source": []
  },
  {
   "cell_type": "markdown",
   "id": "91b3ef11",
   "metadata": {},
   "source": [
    "### Random Forest"
   ]
  },
  {
   "cell_type": "code",
   "execution_count": 237,
   "id": "d4fd3cd6",
   "metadata": {
    "ExecuteTime": {
     "end_time": "2021-06-19T08:39:56.777031Z",
     "start_time": "2021-06-19T08:39:41.479059Z"
    }
   },
   "outputs": [
    {
     "name": "stdout",
     "output_type": "stream",
     "text": [
      "rf MAE score: 24315769.741121598\n"
     ]
    }
   ],
   "source": [
    "rf = RandomForestRegressor()\n",
    "\n",
    "rf.fit(X_train, y_train)\n",
    "\n",
    "y_pred = rf.predict(X_valid)\n",
    "\n",
    "print(f'rf MAE score: {mean_absolute_error(y_valid, y_pred)}')"
   ]
  },
  {
   "cell_type": "code",
   "execution_count": null,
   "id": "5b74180b",
   "metadata": {},
   "outputs": [],
   "source": []
  },
  {
   "cell_type": "code",
   "execution_count": null,
   "id": "5c1f5b18",
   "metadata": {},
   "outputs": [],
   "source": [
    "from xgboost import XGBRegressor\n",
    "from lightgbm import LGBMRegressor"
   ]
  },
  {
   "cell_type": "markdown",
   "id": "b3e0bca8",
   "metadata": {},
   "source": [
    "### XGBoost"
   ]
  },
  {
   "cell_type": "code",
   "execution_count": 239,
   "id": "9a2cdfd6",
   "metadata": {
    "ExecuteTime": {
     "end_time": "2021-06-19T08:41:08.789615Z",
     "start_time": "2021-06-19T08:41:07.444356Z"
    }
   },
   "outputs": [
    {
     "name": "stdout",
     "output_type": "stream",
     "text": [
      "XGB MAE score: 23529977.663924858\n"
     ]
    }
   ],
   "source": [
    "xgb = XGBRegressor()\n",
    "\n",
    "xgb.fit(X_train, y_train)\n",
    "\n",
    "y_pred = xgb.predict(X_valid)\n",
    "\n",
    "print(f'XGB MAE score: {mean_absolute_error(y_valid, y_pred)}')"
   ]
  },
  {
   "cell_type": "code",
   "execution_count": null,
   "id": "d68d4adc",
   "metadata": {},
   "outputs": [],
   "source": []
  },
  {
   "cell_type": "markdown",
   "id": "8a957078",
   "metadata": {},
   "source": [
    "### LightGBM"
   ]
  },
  {
   "cell_type": "code",
   "execution_count": 242,
   "id": "e525a68b",
   "metadata": {
    "ExecuteTime": {
     "end_time": "2021-06-19T08:42:58.353315Z",
     "start_time": "2021-06-19T08:42:58.337569Z"
    }
   },
   "outputs": [],
   "source": [
    "# error solution ; Do not support special JSON characters in feature name\n",
    "import re\n",
    "X_train = X_train.rename(columns = lambda x:re.sub('[^A-Za-z0-9_]+', '', x))"
   ]
  },
  {
   "cell_type": "code",
   "execution_count": 243,
   "id": "b02d74c5",
   "metadata": {
    "ExecuteTime": {
     "end_time": "2021-06-19T08:43:00.773031Z",
     "start_time": "2021-06-19T08:43:00.573200Z"
    }
   },
   "outputs": [
    {
     "name": "stdout",
     "output_type": "stream",
     "text": [
      "LGB MAE score: 26259147.689219393\n"
     ]
    }
   ],
   "source": [
    "lgb = LGBMRegressor(tree_method='gpu_hist')\n",
    "\n",
    "lgb.fit(X_train, y_train)\n",
    "\n",
    "y_pred = lgb.predict(X_valid)\n",
    "\n",
    "print(f'LGB MAE score: {mean_absolute_error(y_valid, y_pred)}')"
   ]
  },
  {
   "cell_type": "code",
   "execution_count": null,
   "id": "52b26ba7",
   "metadata": {},
   "outputs": [],
   "source": []
  },
  {
   "cell_type": "code",
   "execution_count": 246,
   "id": "329145a5",
   "metadata": {
    "ExecuteTime": {
     "end_time": "2021-06-19T08:45:19.572517Z",
     "start_time": "2021-06-19T08:45:19.568696Z"
    }
   },
   "outputs": [
    {
     "data": {
      "text/plain": [
       "Index(['UNC_YEAR', 'HSCD', 'COUNTRYCD', 'COUNTRYNM', 'TRADE_COUNTRYCD',\n",
       "       'TRADE_HSCD', 'TARIFF_AVG', 'SNDIST', 'NY_GDP_MKTP_CD',\n",
       "       'NY_GDP_MKTP_CD_1Y', 'SP_POP_TOTL', 'PA_NUS_FCRF',\n",
       "       'IC_BUS_EASE_DFRN_DB', 'KMDIST', 'TRADE_HSCD_COUNTRYCD',\n",
       "       'KR_TRADE_HSCD_COUNTRYCD'],\n",
       "      dtype='object')"
      ]
     },
     "execution_count": 246,
     "metadata": {},
     "output_type": "execute_result"
    }
   ],
   "source": [
    "train.columns"
   ]
  },
  {
   "cell_type": "code",
   "execution_count": 248,
   "id": "da9c1a72",
   "metadata": {
    "ExecuteTime": {
     "end_time": "2021-06-19T08:45:31.376408Z",
     "start_time": "2021-06-19T08:45:31.367185Z"
    }
   },
   "outputs": [
    {
     "data": {
      "text/plain": [
       "count    2.118900e+04\n",
       "mean     1.793963e+07\n",
       "std      4.810033e+08\n",
       "min      0.000000e+00\n",
       "25%      4.917000e+04\n",
       "50%      3.496490e+05\n",
       "75%      2.307592e+06\n",
       "max      6.369533e+10\n",
       "Name: KR_TRADE_HSCD_COUNTRYCD, dtype: float64"
      ]
     },
     "execution_count": 248,
     "metadata": {},
     "output_type": "execute_result"
    }
   ],
   "source": [
    "train['KR_TRADE_HSCD_COUNTRYCD'].describe()"
   ]
  },
  {
   "cell_type": "code",
   "execution_count": 252,
   "id": "8ad6a08a",
   "metadata": {
    "ExecuteTime": {
     "end_time": "2021-06-19T08:46:30.999590Z",
     "start_time": "2021-06-19T08:46:30.980584Z"
    }
   },
   "outputs": [
    {
     "data": {
      "text/plain": [
       "0"
      ]
     },
     "metadata": {},
     "output_type": "display_data"
    },
    {
     "data": {
      "text/plain": [
       "63695330669"
      ]
     },
     "metadata": {},
     "output_type": "display_data"
    }
   ],
   "source": [
    "display(min(train['KR_TRADE_HSCD_COUNTRYCD']))\n",
    "display(max(train['KR_TRADE_HSCD_COUNTRYCD']))"
   ]
  },
  {
   "cell_type": "code",
   "execution_count": null,
   "id": "15ef3378",
   "metadata": {},
   "outputs": [],
   "source": []
  },
  {
   "cell_type": "code",
   "execution_count": null,
   "id": "e7940b0c",
   "metadata": {},
   "outputs": [],
   "source": []
  },
  {
   "cell_type": "code",
   "execution_count": null,
   "id": "d2753f1a",
   "metadata": {},
   "outputs": [],
   "source": []
  },
  {
   "cell_type": "markdown",
   "id": "9c5377e0",
   "metadata": {},
   "source": [
    "# model - tabnet"
   ]
  },
  {
   "cell_type": "markdown",
   "id": "e382e7a0",
   "metadata": {
    "ExecuteTime": {
     "end_time": "2021-06-19T08:28:16.357869Z",
     "start_time": "2021-06-19T08:28:16.351583Z"
    }
   },
   "source": [
    "[Good simple Example](https://www.kaggle.com/carlmcbrideellis/tabnet-a-very-simple-regression-example)"
   ]
  },
  {
   "cell_type": "code",
   "execution_count": 73,
   "id": "4ee7d380",
   "metadata": {
    "ExecuteTime": {
     "end_time": "2021-06-19T06:47:02.750598Z",
     "start_time": "2021-06-19T06:47:02.741724Z"
    }
   },
   "outputs": [],
   "source": [
    "from pytorch_tabnet.tab_model import TabNetClassifier, TabNetRegressor"
   ]
  },
  {
   "cell_type": "code",
   "execution_count": 222,
   "id": "c3895764",
   "metadata": {
    "ExecuteTime": {
     "end_time": "2021-06-19T08:25:34.043981Z",
     "start_time": "2021-06-19T08:25:34.033937Z"
    }
   },
   "outputs": [],
   "source": [
    "y_train_2 = np.log1p(y_train)\n",
    "y_valid_2 = np.log1p(y_valid)"
   ]
  },
  {
   "cell_type": "code",
   "execution_count": 224,
   "id": "b21337d7",
   "metadata": {
    "ExecuteTime": {
     "end_time": "2021-06-19T08:27:15.815485Z",
     "start_time": "2021-06-19T08:27:15.805118Z"
    }
   },
   "outputs": [],
   "source": [
    "X_train_2 = X_train.to_numpy()\n",
    "X_valid_2 = X_valid.to_numpy()\n",
    "y_train_2 = y_train.to_numpy().reshape(-1,1)\n",
    "y_valid_2 = y_valid.to_numpy().reshape(-1,1)"
   ]
  },
  {
   "cell_type": "code",
   "execution_count": 227,
   "id": "a0f8923e",
   "metadata": {
    "ExecuteTime": {
     "end_time": "2021-06-19T08:27:56.233351Z",
     "start_time": "2021-06-19T08:27:56.228803Z"
    }
   },
   "outputs": [],
   "source": [
    "import os\n",
    "os.environ['CUDA_VISIBLE_DEVICES'] = '0'"
   ]
  },
  {
   "cell_type": "code",
   "execution_count": 228,
   "id": "da64cc32",
   "metadata": {
    "ExecuteTime": {
     "end_time": "2021-06-19T08:27:58.304891Z",
     "start_time": "2021-06-19T08:27:58.268722Z"
    }
   },
   "outputs": [
    {
     "name": "stdout",
     "output_type": "stream",
     "text": [
      "Device used : cuda\n"
     ]
    },
    {
     "ename": "RuntimeError",
     "evalue": "CUDA error: all CUDA-capable devices are busy or unavailable",
     "output_type": "error",
     "traceback": [
      "\u001b[0;31m---------------------------------------------------------------------------\u001b[0m",
      "\u001b[0;31mRuntimeError\u001b[0m                              Traceback (most recent call last)",
      "\u001b[0;32m<ipython-input-228-d398c460d293>\u001b[0m in \u001b[0;36m<module>\u001b[0;34m\u001b[0m\n\u001b[1;32m      2\u001b[0m clf.fit(\n\u001b[1;32m      3\u001b[0m     \u001b[0mX_train_2\u001b[0m\u001b[0;34m,\u001b[0m \u001b[0my_train_2\u001b[0m\u001b[0;34m,\u001b[0m\u001b[0;34m\u001b[0m\u001b[0;34m\u001b[0m\u001b[0m\n\u001b[0;32m----> 4\u001b[0;31m     \u001b[0meval_set\u001b[0m \u001b[0;34m=\u001b[0m \u001b[0;34m[\u001b[0m\u001b[0;34m(\u001b[0m\u001b[0mX_valid_2\u001b[0m\u001b[0;34m,\u001b[0m \u001b[0my_valid_2\u001b[0m\u001b[0;34m)\u001b[0m\u001b[0;34m]\u001b[0m\u001b[0;34m\u001b[0m\u001b[0;34m\u001b[0m\u001b[0m\n\u001b[0m\u001b[1;32m      5\u001b[0m )\n\u001b[1;32m      6\u001b[0m \u001b[0;34m\u001b[0m\u001b[0m\n",
      "\u001b[0;32m/opt/conda/lib/python3.7/site-packages/pytorch_tabnet/abstract_model.py\u001b[0m in \u001b[0;36mfit\u001b[0;34m(self, X_train, y_train, eval_set, eval_name, eval_metric, loss_fn, weights, max_epochs, patience, batch_size, virtual_batch_size, num_workers, drop_last, callbacks, pin_memory, from_unsupervised)\u001b[0m\n\u001b[1;32m    202\u001b[0m \u001b[0;34m\u001b[0m\u001b[0m\n\u001b[1;32m    203\u001b[0m         \u001b[0;32mif\u001b[0m \u001b[0;32mnot\u001b[0m \u001b[0mhasattr\u001b[0m\u001b[0;34m(\u001b[0m\u001b[0mself\u001b[0m\u001b[0;34m,\u001b[0m \u001b[0;34m\"network\"\u001b[0m\u001b[0;34m)\u001b[0m\u001b[0;34m:\u001b[0m\u001b[0;34m\u001b[0m\u001b[0;34m\u001b[0m\u001b[0m\n\u001b[0;32m--> 204\u001b[0;31m             \u001b[0mself\u001b[0m\u001b[0;34m.\u001b[0m\u001b[0m_set_network\u001b[0m\u001b[0;34m(\u001b[0m\u001b[0;34m)\u001b[0m\u001b[0;34m\u001b[0m\u001b[0;34m\u001b[0m\u001b[0m\n\u001b[0m\u001b[1;32m    205\u001b[0m         \u001b[0mself\u001b[0m\u001b[0;34m.\u001b[0m\u001b[0m_update_network_params\u001b[0m\u001b[0;34m(\u001b[0m\u001b[0;34m)\u001b[0m\u001b[0;34m\u001b[0m\u001b[0;34m\u001b[0m\u001b[0m\n\u001b[1;32m    206\u001b[0m         \u001b[0mself\u001b[0m\u001b[0;34m.\u001b[0m\u001b[0m_set_metrics\u001b[0m\u001b[0;34m(\u001b[0m\u001b[0meval_metric\u001b[0m\u001b[0;34m,\u001b[0m \u001b[0meval_names\u001b[0m\u001b[0;34m)\u001b[0m\u001b[0;34m\u001b[0m\u001b[0;34m\u001b[0m\u001b[0m\n",
      "\u001b[0;32m/opt/conda/lib/python3.7/site-packages/pytorch_tabnet/abstract_model.py\u001b[0m in \u001b[0;36m_set_network\u001b[0;34m(self)\u001b[0m\n\u001b[1;32m    557\u001b[0m             \u001b[0mmomentum\u001b[0m\u001b[0;34m=\u001b[0m\u001b[0mself\u001b[0m\u001b[0;34m.\u001b[0m\u001b[0mmomentum\u001b[0m\u001b[0;34m,\u001b[0m\u001b[0;34m\u001b[0m\u001b[0;34m\u001b[0m\u001b[0m\n\u001b[1;32m    558\u001b[0m             \u001b[0mmask_type\u001b[0m\u001b[0;34m=\u001b[0m\u001b[0mself\u001b[0m\u001b[0;34m.\u001b[0m\u001b[0mmask_type\u001b[0m\u001b[0;34m,\u001b[0m\u001b[0;34m\u001b[0m\u001b[0;34m\u001b[0m\u001b[0m\n\u001b[0;32m--> 559\u001b[0;31m         ).to(self.device)\n\u001b[0m\u001b[1;32m    560\u001b[0m \u001b[0;34m\u001b[0m\u001b[0m\n\u001b[1;32m    561\u001b[0m         self.reducing_matrix = create_explain_matrix(\n",
      "\u001b[0;32m/opt/conda/lib/python3.7/site-packages/torch/nn/modules/module.py\u001b[0m in \u001b[0;36mto\u001b[0;34m(self, *args, **kwargs)\u001b[0m\n\u001b[1;32m    610\u001b[0m             \u001b[0;32mreturn\u001b[0m \u001b[0mt\u001b[0m\u001b[0;34m.\u001b[0m\u001b[0mto\u001b[0m\u001b[0;34m(\u001b[0m\u001b[0mdevice\u001b[0m\u001b[0;34m,\u001b[0m \u001b[0mdtype\u001b[0m \u001b[0;32mif\u001b[0m \u001b[0mt\u001b[0m\u001b[0;34m.\u001b[0m\u001b[0mis_floating_point\u001b[0m\u001b[0;34m(\u001b[0m\u001b[0;34m)\u001b[0m \u001b[0;32melse\u001b[0m \u001b[0;32mNone\u001b[0m\u001b[0;34m,\u001b[0m \u001b[0mnon_blocking\u001b[0m\u001b[0;34m)\u001b[0m\u001b[0;34m\u001b[0m\u001b[0;34m\u001b[0m\u001b[0m\n\u001b[1;32m    611\u001b[0m \u001b[0;34m\u001b[0m\u001b[0m\n\u001b[0;32m--> 612\u001b[0;31m         \u001b[0;32mreturn\u001b[0m \u001b[0mself\u001b[0m\u001b[0;34m.\u001b[0m\u001b[0m_apply\u001b[0m\u001b[0;34m(\u001b[0m\u001b[0mconvert\u001b[0m\u001b[0;34m)\u001b[0m\u001b[0;34m\u001b[0m\u001b[0;34m\u001b[0m\u001b[0m\n\u001b[0m\u001b[1;32m    613\u001b[0m \u001b[0;34m\u001b[0m\u001b[0m\n\u001b[1;32m    614\u001b[0m     def register_backward_hook(\n",
      "\u001b[0;32m/opt/conda/lib/python3.7/site-packages/torch/nn/modules/module.py\u001b[0m in \u001b[0;36m_apply\u001b[0;34m(self, fn)\u001b[0m\n\u001b[1;32m    357\u001b[0m     \u001b[0;32mdef\u001b[0m \u001b[0m_apply\u001b[0m\u001b[0;34m(\u001b[0m\u001b[0mself\u001b[0m\u001b[0;34m,\u001b[0m \u001b[0mfn\u001b[0m\u001b[0;34m)\u001b[0m\u001b[0;34m:\u001b[0m\u001b[0;34m\u001b[0m\u001b[0;34m\u001b[0m\u001b[0m\n\u001b[1;32m    358\u001b[0m         \u001b[0;32mfor\u001b[0m \u001b[0mmodule\u001b[0m \u001b[0;32min\u001b[0m \u001b[0mself\u001b[0m\u001b[0;34m.\u001b[0m\u001b[0mchildren\u001b[0m\u001b[0;34m(\u001b[0m\u001b[0;34m)\u001b[0m\u001b[0;34m:\u001b[0m\u001b[0;34m\u001b[0m\u001b[0;34m\u001b[0m\u001b[0m\n\u001b[0;32m--> 359\u001b[0;31m             \u001b[0mmodule\u001b[0m\u001b[0;34m.\u001b[0m\u001b[0m_apply\u001b[0m\u001b[0;34m(\u001b[0m\u001b[0mfn\u001b[0m\u001b[0;34m)\u001b[0m\u001b[0;34m\u001b[0m\u001b[0;34m\u001b[0m\u001b[0m\n\u001b[0m\u001b[1;32m    360\u001b[0m \u001b[0;34m\u001b[0m\u001b[0m\n\u001b[1;32m    361\u001b[0m         \u001b[0;32mdef\u001b[0m \u001b[0mcompute_should_use_set_data\u001b[0m\u001b[0;34m(\u001b[0m\u001b[0mtensor\u001b[0m\u001b[0;34m,\u001b[0m \u001b[0mtensor_applied\u001b[0m\u001b[0;34m)\u001b[0m\u001b[0;34m:\u001b[0m\u001b[0;34m\u001b[0m\u001b[0;34m\u001b[0m\u001b[0m\n",
      "\u001b[0;32m/opt/conda/lib/python3.7/site-packages/torch/nn/modules/module.py\u001b[0m in \u001b[0;36m_apply\u001b[0;34m(self, fn)\u001b[0m\n\u001b[1;32m    357\u001b[0m     \u001b[0;32mdef\u001b[0m \u001b[0m_apply\u001b[0m\u001b[0;34m(\u001b[0m\u001b[0mself\u001b[0m\u001b[0;34m,\u001b[0m \u001b[0mfn\u001b[0m\u001b[0;34m)\u001b[0m\u001b[0;34m:\u001b[0m\u001b[0;34m\u001b[0m\u001b[0;34m\u001b[0m\u001b[0m\n\u001b[1;32m    358\u001b[0m         \u001b[0;32mfor\u001b[0m \u001b[0mmodule\u001b[0m \u001b[0;32min\u001b[0m \u001b[0mself\u001b[0m\u001b[0;34m.\u001b[0m\u001b[0mchildren\u001b[0m\u001b[0;34m(\u001b[0m\u001b[0;34m)\u001b[0m\u001b[0;34m:\u001b[0m\u001b[0;34m\u001b[0m\u001b[0;34m\u001b[0m\u001b[0m\n\u001b[0;32m--> 359\u001b[0;31m             \u001b[0mmodule\u001b[0m\u001b[0;34m.\u001b[0m\u001b[0m_apply\u001b[0m\u001b[0;34m(\u001b[0m\u001b[0mfn\u001b[0m\u001b[0;34m)\u001b[0m\u001b[0;34m\u001b[0m\u001b[0;34m\u001b[0m\u001b[0m\n\u001b[0m\u001b[1;32m    360\u001b[0m \u001b[0;34m\u001b[0m\u001b[0m\n\u001b[1;32m    361\u001b[0m         \u001b[0;32mdef\u001b[0m \u001b[0mcompute_should_use_set_data\u001b[0m\u001b[0;34m(\u001b[0m\u001b[0mtensor\u001b[0m\u001b[0;34m,\u001b[0m \u001b[0mtensor_applied\u001b[0m\u001b[0;34m)\u001b[0m\u001b[0;34m:\u001b[0m\u001b[0;34m\u001b[0m\u001b[0;34m\u001b[0m\u001b[0m\n",
      "\u001b[0;32m/opt/conda/lib/python3.7/site-packages/torch/nn/modules/module.py\u001b[0m in \u001b[0;36m_apply\u001b[0;34m(self, fn)\u001b[0m\n\u001b[1;32m    379\u001b[0m                 \u001b[0;31m# `with torch.no_grad():`\u001b[0m\u001b[0;34m\u001b[0m\u001b[0;34m\u001b[0m\u001b[0;34m\u001b[0m\u001b[0m\n\u001b[1;32m    380\u001b[0m                 \u001b[0;32mwith\u001b[0m \u001b[0mtorch\u001b[0m\u001b[0;34m.\u001b[0m\u001b[0mno_grad\u001b[0m\u001b[0;34m(\u001b[0m\u001b[0;34m)\u001b[0m\u001b[0;34m:\u001b[0m\u001b[0;34m\u001b[0m\u001b[0;34m\u001b[0m\u001b[0m\n\u001b[0;32m--> 381\u001b[0;31m                     \u001b[0mparam_applied\u001b[0m \u001b[0;34m=\u001b[0m \u001b[0mfn\u001b[0m\u001b[0;34m(\u001b[0m\u001b[0mparam\u001b[0m\u001b[0;34m)\u001b[0m\u001b[0;34m\u001b[0m\u001b[0;34m\u001b[0m\u001b[0m\n\u001b[0m\u001b[1;32m    382\u001b[0m                 \u001b[0mshould_use_set_data\u001b[0m \u001b[0;34m=\u001b[0m \u001b[0mcompute_should_use_set_data\u001b[0m\u001b[0;34m(\u001b[0m\u001b[0mparam\u001b[0m\u001b[0;34m,\u001b[0m \u001b[0mparam_applied\u001b[0m\u001b[0;34m)\u001b[0m\u001b[0;34m\u001b[0m\u001b[0;34m\u001b[0m\u001b[0m\n\u001b[1;32m    383\u001b[0m                 \u001b[0;32mif\u001b[0m \u001b[0mshould_use_set_data\u001b[0m\u001b[0;34m:\u001b[0m\u001b[0;34m\u001b[0m\u001b[0;34m\u001b[0m\u001b[0m\n",
      "\u001b[0;32m/opt/conda/lib/python3.7/site-packages/torch/nn/modules/module.py\u001b[0m in \u001b[0;36mconvert\u001b[0;34m(t)\u001b[0m\n\u001b[1;32m    608\u001b[0m             \u001b[0;32mif\u001b[0m \u001b[0mconvert_to_format\u001b[0m \u001b[0;32mis\u001b[0m \u001b[0;32mnot\u001b[0m \u001b[0;32mNone\u001b[0m \u001b[0;32mand\u001b[0m \u001b[0mt\u001b[0m\u001b[0;34m.\u001b[0m\u001b[0mdim\u001b[0m\u001b[0;34m(\u001b[0m\u001b[0;34m)\u001b[0m \u001b[0;34m==\u001b[0m \u001b[0;36m4\u001b[0m\u001b[0;34m:\u001b[0m\u001b[0;34m\u001b[0m\u001b[0;34m\u001b[0m\u001b[0m\n\u001b[1;32m    609\u001b[0m                 \u001b[0;32mreturn\u001b[0m \u001b[0mt\u001b[0m\u001b[0;34m.\u001b[0m\u001b[0mto\u001b[0m\u001b[0;34m(\u001b[0m\u001b[0mdevice\u001b[0m\u001b[0;34m,\u001b[0m \u001b[0mdtype\u001b[0m \u001b[0;32mif\u001b[0m \u001b[0mt\u001b[0m\u001b[0;34m.\u001b[0m\u001b[0mis_floating_point\u001b[0m\u001b[0;34m(\u001b[0m\u001b[0;34m)\u001b[0m \u001b[0;32melse\u001b[0m \u001b[0;32mNone\u001b[0m\u001b[0;34m,\u001b[0m \u001b[0mnon_blocking\u001b[0m\u001b[0;34m,\u001b[0m \u001b[0mmemory_format\u001b[0m\u001b[0;34m=\u001b[0m\u001b[0mconvert_to_format\u001b[0m\u001b[0;34m)\u001b[0m\u001b[0;34m\u001b[0m\u001b[0;34m\u001b[0m\u001b[0m\n\u001b[0;32m--> 610\u001b[0;31m             \u001b[0;32mreturn\u001b[0m \u001b[0mt\u001b[0m\u001b[0;34m.\u001b[0m\u001b[0mto\u001b[0m\u001b[0;34m(\u001b[0m\u001b[0mdevice\u001b[0m\u001b[0;34m,\u001b[0m \u001b[0mdtype\u001b[0m \u001b[0;32mif\u001b[0m \u001b[0mt\u001b[0m\u001b[0;34m.\u001b[0m\u001b[0mis_floating_point\u001b[0m\u001b[0;34m(\u001b[0m\u001b[0;34m)\u001b[0m \u001b[0;32melse\u001b[0m \u001b[0;32mNone\u001b[0m\u001b[0;34m,\u001b[0m \u001b[0mnon_blocking\u001b[0m\u001b[0;34m)\u001b[0m\u001b[0;34m\u001b[0m\u001b[0;34m\u001b[0m\u001b[0m\n\u001b[0m\u001b[1;32m    611\u001b[0m \u001b[0;34m\u001b[0m\u001b[0m\n\u001b[1;32m    612\u001b[0m         \u001b[0;32mreturn\u001b[0m \u001b[0mself\u001b[0m\u001b[0;34m.\u001b[0m\u001b[0m_apply\u001b[0m\u001b[0;34m(\u001b[0m\u001b[0mconvert\u001b[0m\u001b[0;34m)\u001b[0m\u001b[0;34m\u001b[0m\u001b[0;34m\u001b[0m\u001b[0m\n",
      "\u001b[0;31mRuntimeError\u001b[0m: CUDA error: all CUDA-capable devices are busy or unavailable"
     ]
    }
   ],
   "source": [
    "clf = TabNetRegressor()\n",
    "clf.fit(\n",
    "    X_train_2, y_train_2,\n",
    "    eval_set = [(X_valid_2, y_valid_2)]\n",
    ")\n",
    "\n",
    "preds = clf.predict(X_test)"
   ]
  },
  {
   "cell_type": "code",
   "execution_count": null,
   "id": "002a0ac6",
   "metadata": {},
   "outputs": [],
   "source": []
  },
  {
   "cell_type": "code",
   "execution_count": null,
   "id": "4126a639",
   "metadata": {},
   "outputs": [],
   "source": []
  },
  {
   "cell_type": "markdown",
   "id": "7baf9b6f",
   "metadata": {},
   "source": [
    "# Homework\n",
    "\n",
    "- including tabnet prediction values and applying the stacking technique\n",
    "\n",
    "- Attempting the model at server \n",
    "\n",
    "[ensemble](https://www.kaggle.com/kcs93023/kakr-4th-seminar-model-validation-ensemble)\n",
    "\n",
    "[kaggle 1st solution](https://www.kaggle.com/jesucristo/1-house-prices-solution-top-1?scriptVersionId=12846740)"
   ]
  },
  {
   "cell_type": "code",
   "execution_count": null,
   "id": "e26835ed",
   "metadata": {},
   "outputs": [],
   "source": []
  }
 ],
 "metadata": {
  "kernelspec": {
   "display_name": "Python 3",
   "language": "python",
   "name": "python3"
  },
  "language_info": {
   "codemirror_mode": {
    "name": "ipython",
    "version": 3
   },
   "file_extension": ".py",
   "mimetype": "text/x-python",
   "name": "python",
   "nbconvert_exporter": "python",
   "pygments_lexer": "ipython3",
   "version": "3.7.9"
  },
  "toc": {
   "base_numbering": 1,
   "nav_menu": {},
   "number_sections": true,
   "sideBar": true,
   "skip_h1_title": false,
   "title_cell": "Table of Contents",
   "title_sidebar": "Contents",
   "toc_cell": false,
   "toc_position": {},
   "toc_section_display": true,
   "toc_window_display": false
  }
 },
 "nbformat": 4,
 "nbformat_minor": 5
}
